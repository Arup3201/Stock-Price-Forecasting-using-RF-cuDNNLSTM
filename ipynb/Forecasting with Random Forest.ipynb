{
  "cells": [
    {
      "cell_type": "code",
      "execution_count": null,
      "metadata": {
        "colab": {
          "base_uri": "https://localhost:8080/"
        },
        "id": "QzwTHP_99jFM",
        "outputId": "6d422bbb-74f2-4770-ccfd-30f5eb86f57a"
      },
      "outputs": [
        {
          "output_type": "stream",
          "name": "stdout",
          "text": [
            "[[ 0  1  2  3  4]\n",
            " [ 5  6  7  8  9]\n",
            " [10 11 12 13 14]\n",
            " [15 16 17 18 19]\n",
            " [20 21 22 23 24]\n",
            " [25 26 27 28 29]\n",
            " [30 31 32 33 34]\n",
            " [35 36 37 38 39]\n",
            " [40 41 42 43 44]\n",
            " [45 46 47 48 49]\n",
            " [50 51 52 53 54]\n",
            " [55 56 57 58 59]\n",
            " [60 61 62 63 64]\n",
            " [65 66 67 68 69]\n",
            " [70 71 72 73 74]\n",
            " [75 76 77 78 79]\n",
            " [80 81 82 83 84]\n",
            " [85 86 87 88 89]\n",
            " [90 91 92 93 94]\n",
            " [95 96 97 98 99]]\n",
            "CPU times: user 2.19 ms, sys: 3 µs, total: 2.19 ms\n",
            "Wall time: 2.18 ms\n"
          ]
        }
      ],
      "source": [
        "# DEMO CODE👇\n",
        "%%time\n"
      ]
    },
    {
      "cell_type": "code",
      "execution_count": null,
      "metadata": {
        "colab": {
          "base_uri": "https://localhost:8080/"
        },
        "id": "mA6hcrd0Vn0s",
        "outputId": "561b34fd-66aa-4b82-b04b-d1eca0a373a6"
      },
      "outputs": [
        {
          "name": "stdout",
          "output_type": "stream",
          "text": [
            "Thu Apr 27 11:38:31 2023       \n",
            "+-----------------------------------------------------------------------------+\n",
            "| NVIDIA-SMI 525.85.12    Driver Version: 525.85.12    CUDA Version: 12.0     |\n",
            "|-------------------------------+----------------------+----------------------+\n",
            "| GPU  Name        Persistence-M| Bus-Id        Disp.A | Volatile Uncorr. ECC |\n",
            "| Fan  Temp  Perf  Pwr:Usage/Cap|         Memory-Usage | GPU-Util  Compute M. |\n",
            "|                               |                      |               MIG M. |\n",
            "|===============================+======================+======================|\n",
            "|   0  Tesla T4            Off  | 00000000:00:04.0 Off |                    0 |\n",
            "| N/A   64C    P8    13W /  70W |      0MiB / 15360MiB |      0%      Default |\n",
            "|                               |                      |                  N/A |\n",
            "+-------------------------------+----------------------+----------------------+\n",
            "                                                                               \n",
            "+-----------------------------------------------------------------------------+\n",
            "| Processes:                                                                  |\n",
            "|  GPU   GI   CI        PID   Type   Process name                  GPU Memory |\n",
            "|        ID   ID                                                   Usage      |\n",
            "|=============================================================================|\n",
            "|  No running processes found                                                 |\n",
            "+-----------------------------------------------------------------------------+\n"
          ]
        }
      ],
      "source": [
        "!nvidia-smi"
      ]
    },
    {
      "cell_type": "markdown",
      "metadata": {
        "id": "d_mXte9KV9xD"
      },
      "source": [
        "RAPIDSAI referenec: https://docs.rapids.ai/install#rapids-release-selector"
      ]
    },
    {
      "cell_type": "markdown",
      "metadata": {
        "id": "H81XW6TTVu1P"
      },
      "source": [
        "```\n",
        "!pip install --extra-index-url https://pypi.nvidia.com cuml_cu11==23.4.0\n",
        "\n",
        "!pip install --extra-index-url https://pypi.nvidia.com cudf_cu11==23.4.0\n",
        "```"
      ]
    },
    {
      "cell_type": "code",
      "source": [
        "## To save the installed package permanantly in my drive\n",
        "# import os, sys\n",
        "# from google.colab import drive\n",
        "# drive.mount('/content/drive')\n",
        "# nb_path = '/content/notebooks'\n",
        "# os.symlink('/content/drive/My Drive/Colab Notebooks', nb_path)\n",
        "# sys.path.insert(0,nb_path)\n",
        "\n",
        "## Save the libraries inside nb_path\n",
        "# !pip install --target=$nb_path cuml_cu11==23.04.00 --extra-index-url https://pypi.nvidia.com \n",
        "# !pip install --target=$nb_path cudf_cu11==23.04.00 --extra-index-url https://pypi.nvidia.com "
      ],
      "metadata": {
        "colab": {
          "base_uri": "https://localhost:8080/"
        },
        "id": "-3UwxUavoxoH",
        "outputId": "f07a0ed4-3540-4c20-8af0-9ea9c062fd14"
      },
      "execution_count": null,
      "outputs": [
        {
          "output_type": "stream",
          "name": "stdout",
          "text": [
            "Drive already mounted at /content/drive; to attempt to forcibly remount, call drive.mount(\"/content/drive\", force_remount=True).\n"
          ]
        }
      ]
    },
    {
      "cell_type": "code",
      "execution_count": null,
      "metadata": {
        "id": "rg1yPnfL2EAP"
      },
      "outputs": [],
      "source": [
        "# For data processing\n",
        "import numpy as np\n",
        "import pandas as pd\n",
        "\n",
        "# For Visulization\n",
        "import matplotlib.pyplot as plt\n",
        "import seaborn as sns\n",
        "\n",
        "# For GPU Processing\n",
        "import cudf\n",
        "import cupy as cp\n",
        "import cuml\n",
        "\n",
        "# Save features as a pickle file\n",
        "import pickle\n",
        "\n",
        "# For Random Forest algorithm on GPU\n",
        "from cuml.ensemble import RandomForestRegressor"
      ]
    },
    {
      "cell_type": "code",
      "execution_count": null,
      "metadata": {
        "id": "yXUCYnyexYSo"
      },
      "outputs": [],
      "source": [
        "with open('/content/drive/MyDrive/datasets/stock-prices-S&P-constituents/datasets-list', 'rb') as file:\n",
        "    datasets = pickle.load(file)"
      ]
    },
    {
      "cell_type": "code",
      "execution_count": null,
      "metadata": {
        "colab": {
          "base_uri": "https://localhost:8080/"
        },
        "id": "tTs7YIN5xgsl",
        "outputId": "bbeab2c3-347c-4afb-c52b-d392634e95c8"
      },
      "outputs": [
        {
          "output_type": "execute_result",
          "data": {
            "text/plain": [
              "26"
            ]
          },
          "metadata": {},
          "execution_count": 3
        }
      ],
      "source": [
        "len(datasets)"
      ]
    },
    {
      "cell_type": "code",
      "execution_count": null,
      "metadata": {
        "id": "mNpfuL4LxtXs"
      },
      "outputs": [],
      "source": [
        "# This function will generate new features for Random Forest\n",
        "def generate_features_rf(current_data):\n",
        "    curr_dataset = cp.asarray(current_data.copy())\n",
        "\n",
        "    # Take the total amount of days in 1st study period\n",
        "    T_study = curr_dataset.shape[1]\n",
        "\n",
        "    # Create the t =[241, 243, ..., T_study]\n",
        "    t = cp.arange(240, T_study)\n",
        "\n",
        "    # Define the m for calculation of t-m, m = [1, 2, 3, ..., 20]\n",
        "    M = cp.arange(1, 21)\n",
        "\n",
        "    # m = [1, 2, 3, ..., 20] U [40, 60, 80, ..., 240]\n",
        "    M = cp.concatenate((M, cp.arange(40, 241, 20)))\n",
        "\n",
        "    # Define number of stocks as it will be used to create arrays with proper shapes\n",
        "    n_stocks = 251\n",
        "\n",
        "    # Create a container to store ir, cr and or for the current dataset and targets to store targets\n",
        "    features_container = cp.ones(shape=(n_stocks, T_study, M.shape[0]*3))\n",
        "    targets = cp.ones(shape=(n_stocks, T_study, 1))\n",
        "\n",
        "    # Put NaN values to the first 240 rows as it will be used for feature creation\n",
        "    features_container[:, :t[0], :] = cp.nan \n",
        "    targets[:, :t[0], :] = cp.nan\n",
        "\n",
        "    # To calculate ir, we need cp_(t-m) and op_(t-m)\n",
        "    cp_t_m = cp.zeros((n_stocks, t.shape[0], M.shape[0]))\n",
        "    op_t_m = cp.zeros((n_stocks, t.shape[0], M.shape[0]))\n",
        "\n",
        "    # To calculate cr, we need cp_(t-1-m) and cp_(t-1-m). Remember we are indexing from 0, not 1!\n",
        "    cp_t_1_m = cp.zeros((n_stocks, t.shape[0], M.shape[0]))\n",
        "    cp_t_1 = curr_dataset[:, t-2, 0]\n",
        "\n",
        "    # To calculate or, we need op_t and cp_t_m. Remember we are indexing from 0, not 1!\n",
        "    op_t = curr_dataset[:, t-1, 1]\n",
        "\n",
        "\n",
        "    # Calculate cp_(t-m), op_(t-m) and cp_(t-1-m) for each m and store them at proper axis=2 index i\n",
        "    # of their respective container\n",
        "    for i, m in enumerate(M):\n",
        "        cp_t_m[:, :, i] = curr_dataset[:, t-m, 0]\n",
        "        op_t_m[:, :, i] = curr_dataset[:, t-m, 1]\n",
        "        cp_t_1_m[:, :, i] = curr_dataset[:, t-1-m, 0]\n",
        "\n",
        "\n",
        "    # Calculate ir_(t-m)\n",
        "    ir_t_m = cp.divide(cp_t_m, op_t_m, out=cp.zeros_like(cp_t_m)) - 1\n",
        "\n",
        "\n",
        "    # Before calculating cr_(t-m), reshape the cp_(t-1-m) as it should have the same last part of shape as cp_(t-1), the divident\n",
        "    # means if cp_(t-1) is (251, 774) then cp_(t-1-m) should be (_, 251, 774) notice the last of shape is same\n",
        "    reshaped_cp_t_1_m = cp_t_1_m.reshape(M.shape[0], n_stocks, -1)\n",
        "\n",
        "    # Calculating cr_(t-m)\n",
        "    cr_t_m = cp.divide(cp_t_1, reshaped_cp_t_1_m).reshape(n_stocks, -1, M.shape[0]) - 1\n",
        "\n",
        "\n",
        "    # Before calculating or_(t-m), reshape the cp_(t-m) as it should have the same last part of shape as op_t, the divident\n",
        "    # means if op_t is (251, 774) then cp_(t-m) should be (_, 251, 774) notice the last of shape is same\n",
        "    reshaped_cp_t_m = cp_t_m.reshape(M.shape[0], n_stocks, -1)\n",
        "\n",
        "    # Calculating or_(t-m)\n",
        "    or_t_m = cp.divide(op_t, reshaped_cp_t_m).reshape(n_stocks, -1, M.shape[0]) - 1\n",
        "\n",
        "    # Calculate targets\n",
        "    cp_t0 = curr_dataset[:, t, 0:1] # 0:1 makes sure that it is 3D just like targets[:, t, :]\n",
        "    op_t0 = curr_dataset[:, t, 1:] # 1: makes sure that it is 3D just like targets[:, t, :]\n",
        "    targets[:, t, :] = cp.divide(cp_t0, op_t0, out=cp.zeros_like(cp_t0), _where=op_t0!=0)\n",
        "\n",
        "    # Put the ir, cr and or inside the container\n",
        "    features_container[:, t, :] = cp.dstack((ir_t_m, cr_t_m, or_t_m))\n",
        "\n",
        "    return features_container, targets"
      ]
    },
    {
      "cell_type": "code",
      "execution_count": null,
      "metadata": {
        "id": "gGp9P1r5xzXF"
      },
      "outputs": [],
      "source": [
        "# It will contain all the newly processed datasets each with a shape (251, stock days in 4 years, 93)\n",
        "containers = []\n",
        "targets = []\n",
        "\n",
        "# Run the generate_feature_rf function for each dataset inside main_datasets\n",
        "for dataset in datasets:\n",
        "  dataset = dataset.astype(np.float64)\n",
        "  features, target = generate_features_rf(dataset)\n",
        "  containers.append(features)\n",
        "  targets.append(target)"
      ]
    },
    {
      "cell_type": "code",
      "execution_count": null,
      "metadata": {
        "colab": {
          "base_uri": "https://localhost:8080/"
        },
        "id": "ncEUobXUx14o",
        "outputId": "6f01e5a9-56ab-4284-a47e-91c7a5bf4b44"
      },
      "outputs": [
        {
          "output_type": "execute_result",
          "data": {
            "text/plain": [
              "(26, 26)"
            ]
          },
          "metadata": {},
          "execution_count": 6
        }
      ],
      "source": [
        "len(containers), len(targets)"
      ]
    },
    {
      "cell_type": "markdown",
      "metadata": {
        "id": "bwc7OhhI09f4"
      },
      "source": [
        "251 Stocks, 1013 Days recorded, 93 Features"
      ]
    },
    {
      "cell_type": "code",
      "source": [
        "containers[0].shape"
      ],
      "metadata": {
        "colab": {
          "base_uri": "https://localhost:8080/"
        },
        "id": "cm9-yaxnX-pq",
        "outputId": "114babea-415d-4418-a2b5-c26569d9452c"
      },
      "execution_count": null,
      "outputs": [
        {
          "output_type": "execute_result",
          "data": {
            "text/plain": [
              "(251, 1013, 93)"
            ]
          },
          "metadata": {},
          "execution_count": 7
        }
      ]
    },
    {
      "cell_type": "code",
      "execution_count": null,
      "metadata": {
        "colab": {
          "base_uri": "https://localhost:8080/"
        },
        "id": "Y_fCYOfK1Eh1",
        "outputId": "0d327fee-13e7-464a-e089-3996b744d6e8"
      },
      "outputs": [
        {
          "output_type": "execute_result",
          "data": {
            "text/plain": [
              "array([-0.19955542, -0.19024862, -0.19947621, -0.20839644, -0.18125499,\n",
              "       -0.14123015, -0.20674116, -0.17035563, -0.17167733, -0.2024027 ,\n",
              "       -0.16942568, -0.19743372, -0.21929965, -0.20442928, -0.16544669,\n",
              "       -0.19490207, -0.16092058, -0.1734317 , -0.17598925, -0.18379825,\n",
              "       -0.19758468, -0.16008752, -0.19193418, -0.18734557, -0.1957247 ,\n",
              "       -0.17188738, -0.22087649, -0.19763147, -0.1972304 , -0.19299481,\n",
              "       -0.21983777,  0.33939325,  0.30857822,  0.24645051,  0.22719339,\n",
              "        0.26372095,  0.31272733,  0.29508063,  0.35735379,  0.36904017,\n",
              "        0.35829298,  0.34571171,  0.24760035,  0.15283274,  0.0788459 ,\n",
              "        0.09925538,  0.1174482 ,  0.19093317,  0.22257918,  0.25798428,\n",
              "        0.24764467,  0.54566429,  0.8074113 ,  0.3837954 ,  0.19399712,\n",
              "        0.0034665 ,  0.15701349,  0.09753957,  0.08463199,  0.27299491,\n",
              "        0.4077536 ,  0.46551929,  0.66092588,  0.61328111,  0.54018539,\n",
              "        0.54554839,  0.51810101,  0.53143469,  0.60173394,  0.58016859,\n",
              "        0.6870679 ,  0.68207106,  0.57737382,  0.53595216,  0.4749748 ,\n",
              "        0.36852334,  0.28592336,  0.35500107,  0.40846998,  0.5001821 ,\n",
              "        0.49050058,  0.54626889,  0.91022078,  1.13640451,  0.70813181,\n",
              "        0.44860463,  0.23005528,  0.35802944,  0.38106973,  0.31793566,\n",
              "        0.42475381,  0.72563256,  0.84499144])"
            ]
          },
          "metadata": {},
          "execution_count": 8
        }
      ],
      "source": [
        "# Data used for feature creation is till 252th day\n",
        "containers[0][0, 252, :]"
      ]
    },
    {
      "cell_type": "code",
      "source": [
        "targets[0].shape"
      ],
      "metadata": {
        "colab": {
          "base_uri": "https://localhost:8080/"
        },
        "id": "KkYBKafzX5wM",
        "outputId": "a186735c-eeab-4388-90f6-b9b02c959a42"
      },
      "execution_count": null,
      "outputs": [
        {
          "output_type": "execute_result",
          "data": {
            "text/plain": [
              "(251, 1013, 1)"
            ]
          },
          "metadata": {},
          "execution_count": 9
        }
      ]
    },
    {
      "cell_type": "code",
      "source": [
        "targets[0][0, 252, 0]"
      ],
      "metadata": {
        "colab": {
          "base_uri": "https://localhost:8080/"
        },
        "id": "NZfAC0BPYDVU",
        "outputId": "10cbb025-7d1f-4b44-eca7-050d917b520b"
      },
      "execution_count": null,
      "outputs": [
        {
          "output_type": "execute_result",
          "data": {
            "text/plain": [
              "array(0.80509799)"
            ]
          },
          "metadata": {},
          "execution_count": 10
        }
      ]
    },
    {
      "cell_type": "code",
      "source": [
        "targets[0][:, 252, 0]"
      ],
      "metadata": {
        "colab": {
          "base_uri": "https://localhost:8080/"
        },
        "id": "5Wy8G4MlZJmG",
        "outputId": "1b22776b-a465-4563-b2c0-1235c30eda4c"
      },
      "execution_count": null,
      "outputs": [
        {
          "output_type": "execute_result",
          "data": {
            "text/plain": [
              "array([0.80509799, 0.49643747, 0.956482  , 0.63079347, 0.55704756,\n",
              "       0.56334794, 0.89158309, 0.20108239, 0.57137495, 0.60856256,\n",
              "       0.37439384, 0.89401052, 0.75118202, 1.02631579, 0.68370102,\n",
              "       0.75518338, 0.52533439, 0.52211176, 0.6825222 , 0.48673897,\n",
              "       0.27532736, 0.4576634 , 0.5917424 , 0.54361282, 0.40865125,\n",
              "       0.56941853, 0.46502233, 0.28290258, 0.64433404, 0.61791749,\n",
              "       0.53293056, 1.02068965, 0.44353877, 0.41520199, 0.32224721,\n",
              "       0.        , 0.5112199 , 0.36949586, 0.46294731, 0.46178598,\n",
              "       0.54149142, 1.01595757, 0.63660439, 0.64147512, 0.37974774,\n",
              "       0.49655922, 0.42067668, 0.36245635, 0.7250644 , 0.50207331,\n",
              "       0.36859432, 0.1850829 , 0.97538161, 0.3477065 , 0.68184061,\n",
              "       0.41339075, 0.53007943, 0.7202436 , 0.50951697, 0.30471686,\n",
              "       0.21736556, 0.3393642 , 0.49470754, 0.92588593, 0.73302052,\n",
              "       0.55772178, 0.21121282, 0.22469416, 0.        , 0.60969974,\n",
              "       1.02753798, 0.6431373 , 0.1918549 , 0.36844905, 0.30530761,\n",
              "       0.4238259 , 0.6981987 , 0.51771254, 0.29223167, 0.36275497,\n",
              "       0.24122816, 0.19145586, 0.26646568, 0.79077154, 0.33319605,\n",
              "       0.65247353, 0.85247515, 0.        , 1.05508584, 0.45000043,\n",
              "       0.43522158, 0.20384223, 0.35475274, 0.44428019, 0.38789168,\n",
              "       0.38866836, 0.56535444, 0.49722888, 0.34869045, 0.59540464,\n",
              "       0.59027664, 0.54096999, 0.31595564, 0.61351179, 0.65348962,\n",
              "       0.49876046, 0.44538845, 0.53985114, 0.06675221, 0.49070969,\n",
              "       0.26123128, 0.46825036, 0.65297282, 0.45588118, 0.57877807,\n",
              "       0.37053692, 0.58525811, 0.54443387, 0.96234457, 0.771193  ,\n",
              "       0.49515221, 0.69435169, 0.47672758, 0.37282911, 0.39695413,\n",
              "       0.33490381, 0.5250561 , 0.37696936, 0.46960012, 0.77565273,\n",
              "       0.75658445, 0.27261386, 0.44981777, 0.40387164, 0.42744884,\n",
              "       0.40837983, 0.21144794, 0.69317284, 0.85206281, 0.90219786,\n",
              "       0.48073934, 0.534484  , 0.64351618, 0.93918942, 0.51624076,\n",
              "       0.4492002 , 0.39656169, 0.        , 0.04357888, 0.6680315 ,\n",
              "       0.35243129, 0.42337813, 0.62597784, 0.67518511, 0.        ,\n",
              "       0.9687873 , 0.66189596, 0.29611656, 0.66916617, 0.25174816,\n",
              "       0.78208757, 0.41364568, 0.4685737 , 0.52221184, 0.49914105,\n",
              "       1.25      , 0.39829278, 0.2156412 , 0.50297454, 0.81251306,\n",
              "       0.33048522, 0.50464103, 0.34458614, 0.34432421, 0.12631754,\n",
              "       0.19679321, 0.45940946, 0.38675279, 0.45489586, 0.53567475,\n",
              "       0.5451556 , 0.78171565, 0.61773761, 0.34098428, 0.53243031,\n",
              "       0.27680041, 0.43863825, 0.19087408, 0.25190486, 1.02857143,\n",
              "       0.36195448, 0.        , 0.64544529, 0.1263177 , 0.593812  ,\n",
              "       0.73167108, 0.49330277, 0.69537485, 0.73957008, 0.59907522,\n",
              "       0.50835463, 0.45056397, 0.20040251, 0.49953446, 0.61456961,\n",
              "       0.41743867, 0.87353387, 0.81153051, 0.50421351, 0.13587306,\n",
              "       0.54595728, 0.        , 0.98411632, 0.37453956, 0.636327  ,\n",
              "       0.57552929, 0.63965312, 0.82287856, 0.47672462, 0.412525  ,\n",
              "       0.70023027, 0.57409798, 0.58985497, 0.6253599 , 1.        ,\n",
              "       0.17319385, 0.92928067, 0.81791128, 0.51268737, 0.35996766,\n",
              "       0.42529343, 0.33221627, 0.56619067, 0.83326909, 0.23328115,\n",
              "       0.57828937, 0.84619269, 0.29060572, 0.        , 0.40965709,\n",
              "       0.42861716, 0.        , 0.32728921, 0.62831591, 0.63238965,\n",
              "       0.59413501, 0.12601028, 0.22360404, 0.34687072, 0.        ,\n",
              "       0.57131503])"
            ]
          },
          "metadata": {},
          "execution_count": 11
        }
      ]
    },
    {
      "cell_type": "code",
      "source": [
        "cp.mean(targets[0][:, 252, 0])"
      ],
      "metadata": {
        "colab": {
          "base_uri": "https://localhost:8080/"
        },
        "id": "9q7Ui2LYbFPm",
        "outputId": "9386bf8b-583d-4301-ce0b-3652fb88c46e"
      },
      "execution_count": null,
      "outputs": [
        {
          "output_type": "execute_result",
          "data": {
            "text/plain": [
              "array(0.50333483)"
            ]
          },
          "metadata": {},
          "execution_count": 12
        }
      ]
    },
    {
      "cell_type": "code",
      "source": [
        "0 if targets[0][0, 252, 0] < cp.mean(targets[0][:, 252, 0]) else 1"
      ],
      "metadata": {
        "colab": {
          "base_uri": "https://localhost:8080/"
        },
        "id": "B4Amv5xybMZ3",
        "outputId": "59f1d79d-83bb-45c1-fa98-dd698b408644"
      },
      "execution_count": null,
      "outputs": [
        {
          "output_type": "execute_result",
          "data": {
            "text/plain": [
              "1"
            ]
          },
          "metadata": {},
          "execution_count": 13
        }
      ]
    },
    {
      "cell_type": "code",
      "source": [
        "X_train_list, X_test_list, y_train_list, y_test_list = [], [], [], []\n",
        "\n",
        "train_size = 252 * 2\n",
        "test_size = 252\n",
        "\n",
        "for features, their_targets in zip(containers, targets):\n",
        "  X = features[:, 252:, :]\n",
        "  y = their_targets[:, 252:, :]\n",
        "\n",
        "  X_train = X[:train_size]\n",
        "  X_test = X[train_size:]\n",
        "  y_train = y[:train_size]\n",
        "  y_test = y[train_size:]\n",
        "\n",
        "  X_train_list.append(X_train)\n",
        "  X_test_list.append(X_test)\n",
        "  y_train_list.append(y_train)\n",
        "  y_test_list.append(y_test)"
      ],
      "metadata": {
        "id": "Yv7_wCjCFTqF"
      },
      "execution_count": null,
      "outputs": []
    },
    {
      "cell_type": "code",
      "source": [
        "len(X_train_list)"
      ],
      "metadata": {
        "colab": {
          "base_uri": "https://localhost:8080/"
        },
        "id": "z6qIdV4ThfyC",
        "outputId": "d3952208-ff9b-4ba8-a0c8-a604efd12630"
      },
      "execution_count": null,
      "outputs": [
        {
          "output_type": "execute_result",
          "data": {
            "text/plain": [
              "26"
            ]
          },
          "metadata": {},
          "execution_count": 15
        }
      ]
    },
    {
      "cell_type": "code",
      "source": [
        "X_train_list[0][0, 0, :]"
      ],
      "metadata": {
        "colab": {
          "base_uri": "https://localhost:8080/"
        },
        "id": "kx8txHtFhnt_",
        "outputId": "2f82038b-03c9-43c9-99f8-7a2b415f47f4"
      },
      "execution_count": null,
      "outputs": [
        {
          "output_type": "execute_result",
          "data": {
            "text/plain": [
              "array([-0.19955542, -0.19024862, -0.19947621, -0.20839644, -0.18125499,\n",
              "       -0.14123015, -0.20674116, -0.17035563, -0.17167733, -0.2024027 ,\n",
              "       -0.16942568, -0.19743372, -0.21929965, -0.20442928, -0.16544669,\n",
              "       -0.19490207, -0.16092058, -0.1734317 , -0.17598925, -0.18379825,\n",
              "       -0.19758468, -0.16008752, -0.19193418, -0.18734557, -0.1957247 ,\n",
              "       -0.17188738, -0.22087649, -0.19763147, -0.1972304 , -0.19299481,\n",
              "       -0.21983777,  0.33939325,  0.30857822,  0.24645051,  0.22719339,\n",
              "        0.26372095,  0.31272733,  0.29508063,  0.35735379,  0.36904017,\n",
              "        0.35829298,  0.34571171,  0.24760035,  0.15283274,  0.0788459 ,\n",
              "        0.09925538,  0.1174482 ,  0.19093317,  0.22257918,  0.25798428,\n",
              "        0.24764467,  0.54566429,  0.8074113 ,  0.3837954 ,  0.19399712,\n",
              "        0.0034665 ,  0.15701349,  0.09753957,  0.08463199,  0.27299491,\n",
              "        0.4077536 ,  0.46551929,  0.66092588,  0.61328111,  0.54018539,\n",
              "        0.54554839,  0.51810101,  0.53143469,  0.60173394,  0.58016859,\n",
              "        0.6870679 ,  0.68207106,  0.57737382,  0.53595216,  0.4749748 ,\n",
              "        0.36852334,  0.28592336,  0.35500107,  0.40846998,  0.5001821 ,\n",
              "        0.49050058,  0.54626889,  0.91022078,  1.13640451,  0.70813181,\n",
              "        0.44860463,  0.23005528,  0.35802944,  0.38106973,  0.31793566,\n",
              "        0.42475381,  0.72563256,  0.84499144])"
            ]
          },
          "metadata": {},
          "execution_count": 16
        }
      ]
    },
    {
      "cell_type": "code",
      "source": [
        "for i in range(len(containers)):\n",
        "  print(X_train_list[i].shape)"
      ],
      "metadata": {
        "colab": {
          "base_uri": "https://localhost:8080/"
        },
        "id": "bvumhPx0jMbj",
        "outputId": "2d96f2a4-dcda-47fb-b232-5df8f3f4e980"
      },
      "execution_count": null,
      "outputs": [
        {
          "output_type": "stream",
          "name": "stdout",
          "text": [
            "(251, 761, 93)\n",
            "(251, 760, 93)\n",
            "(251, 759, 93)\n",
            "(251, 759, 93)\n",
            "(251, 759, 93)\n",
            "(251, 759, 93)\n",
            "(251, 759, 93)\n",
            "(251, 757, 93)\n",
            "(251, 752, 93)\n",
            "(251, 752, 93)\n",
            "(251, 752, 93)\n",
            "(251, 752, 93)\n",
            "(251, 756, 93)\n",
            "(251, 755, 93)\n",
            "(251, 754, 93)\n",
            "(251, 755, 93)\n",
            "(251, 755, 93)\n",
            "(251, 756, 93)\n",
            "(251, 757, 93)\n",
            "(251, 754, 93)\n",
            "(251, 754, 93)\n",
            "(251, 754, 93)\n",
            "(251, 754, 93)\n",
            "(251, 756, 93)\n",
            "(251, 755, 93)\n",
            "(251, 753, 93)\n"
          ]
        }
      ]
    },
    {
      "cell_type": "code",
      "source": [
        "X_train_all = np.concatenate(X_train_list, axis=0)\n",
        "y_train_all = np.concatenate(y_train_list, axis=0)"
      ],
      "metadata": {
        "colab": {
          "base_uri": "https://localhost:8080/",
          "height": 432
        },
        "id": "zXKSWJlil9vl",
        "outputId": "478cbcf6-3bfe-4a80-cc64-1d87f5109511"
      },
      "execution_count": null,
      "outputs": [
        {
          "output_type": "error",
          "ename": "ValueError",
          "evalue": "ignored",
          "traceback": [
            "\u001b[0;31m---------------------------------------------------------------------------\u001b[0m",
            "\u001b[0;31mValueError\u001b[0m                                Traceback (most recent call last)",
            "\u001b[0;32m<ipython-input-18-1a0db4337ca6>\u001b[0m in \u001b[0;36m<cell line: 1>\u001b[0;34m()\u001b[0m\n\u001b[0;32m----> 1\u001b[0;31m \u001b[0mX_train_all\u001b[0m \u001b[0;34m=\u001b[0m \u001b[0mnp\u001b[0m\u001b[0;34m.\u001b[0m\u001b[0mconcatenate\u001b[0m\u001b[0;34m(\u001b[0m\u001b[0mX_train_list\u001b[0m\u001b[0;34m,\u001b[0m \u001b[0maxis\u001b[0m\u001b[0;34m=\u001b[0m\u001b[0;36m0\u001b[0m\u001b[0;34m)\u001b[0m\u001b[0;34m\u001b[0m\u001b[0;34m\u001b[0m\u001b[0m\n\u001b[0m\u001b[1;32m      2\u001b[0m \u001b[0my_train_all\u001b[0m \u001b[0;34m=\u001b[0m \u001b[0mnp\u001b[0m\u001b[0;34m.\u001b[0m\u001b[0mconcatenate\u001b[0m\u001b[0;34m(\u001b[0m\u001b[0my_train_list\u001b[0m\u001b[0;34m,\u001b[0m \u001b[0maxis\u001b[0m\u001b[0;34m=\u001b[0m\u001b[0;36m0\u001b[0m\u001b[0;34m)\u001b[0m\u001b[0;34m\u001b[0m\u001b[0;34m\u001b[0m\u001b[0m\n",
            "\u001b[0;32m/usr/local/lib/python3.10/dist-packages/numpy/core/overrides.py\u001b[0m in \u001b[0;36mconcatenate\u001b[0;34m(*args, **kwargs)\u001b[0m\n",
            "\u001b[0;32mcupy/_core/core.pyx\u001b[0m in \u001b[0;36mcupy._core.core._ndarray_base.__array_function__\u001b[0;34m()\u001b[0m\n",
            "\u001b[0;32m/usr/local/lib/python3.10/dist-packages/cupy/_manipulation/join.py\u001b[0m in \u001b[0;36mconcatenate\u001b[0;34m(tup, axis, out, dtype, casting)\u001b[0m\n\u001b[1;32m     58\u001b[0m         \u001b[0mtup\u001b[0m \u001b[0;34m=\u001b[0m \u001b[0;34m[\u001b[0m\u001b[0mm\u001b[0m\u001b[0;34m.\u001b[0m\u001b[0mravel\u001b[0m\u001b[0;34m(\u001b[0m\u001b[0;34m)\u001b[0m \u001b[0;32mfor\u001b[0m \u001b[0mm\u001b[0m \u001b[0;32min\u001b[0m \u001b[0mtup\u001b[0m\u001b[0;34m]\u001b[0m\u001b[0;34m\u001b[0m\u001b[0;34m\u001b[0m\u001b[0m\n\u001b[1;32m     59\u001b[0m         \u001b[0maxis\u001b[0m \u001b[0;34m=\u001b[0m \u001b[0;36m0\u001b[0m\u001b[0;34m\u001b[0m\u001b[0;34m\u001b[0m\u001b[0m\n\u001b[0;32m---> 60\u001b[0;31m     \u001b[0;32mreturn\u001b[0m \u001b[0m_core\u001b[0m\u001b[0;34m.\u001b[0m\u001b[0mconcatenate_method\u001b[0m\u001b[0;34m(\u001b[0m\u001b[0mtup\u001b[0m\u001b[0;34m,\u001b[0m \u001b[0maxis\u001b[0m\u001b[0;34m,\u001b[0m \u001b[0mout\u001b[0m\u001b[0;34m,\u001b[0m \u001b[0mdtype\u001b[0m\u001b[0;34m,\u001b[0m \u001b[0mcasting\u001b[0m\u001b[0;34m)\u001b[0m\u001b[0;34m\u001b[0m\u001b[0;34m\u001b[0m\u001b[0m\n\u001b[0m\u001b[1;32m     61\u001b[0m \u001b[0;34m\u001b[0m\u001b[0m\n\u001b[1;32m     62\u001b[0m \u001b[0;34m\u001b[0m\u001b[0m\n",
            "\u001b[0;32mcupy/_core/_routines_manipulation.pyx\u001b[0m in \u001b[0;36mcupy._core._routines_manipulation.concatenate_method\u001b[0;34m()\u001b[0m\n",
            "\u001b[0;32mcupy/_core/_routines_manipulation.pyx\u001b[0m in \u001b[0;36mcupy._core._routines_manipulation.concatenate_method\u001b[0;34m()\u001b[0m\n",
            "\u001b[0;31mValueError\u001b[0m: All arrays must have same shape except the axis to concatenate"
          ]
        }
      ]
    },
    {
      "cell_type": "markdown",
      "source": [
        "To solve this issue, you can first create a new list of arrays that have the same n_days value. This can be achieved by padding or truncating the arrays to have the same length. Here's an updated code that shows how to do this:"
      ],
      "metadata": {
        "id": "fNCzRjTMmB3p"
      }
    },
    {
      "cell_type": "code",
      "source": [
        "# Calculate the maximum number of days across all arrays\n",
        "max_days = max([x.shape[1] for x in X_train_list])\n",
        "\n",
        "# Pad or truncate the arrays to have the same number of days\n",
        "X_train_list_new = []\n",
        "y_train_list_new = []\n",
        "for X_train, y_train in zip(X_train_list, y_train_list):\n",
        "    n_days = X_train.shape[1]\n",
        "    if n_days < max_days:\n",
        "        # Pad with zeros along the second axis to match the maximum number of days\n",
        "        X_train_padded = np.pad(X_train, ((0, 0), (max_days - n_days, 0), (0, 0)), mode='constant')\n",
        "        y_train_padded = np.pad(y_train, ((0, 0), (max_days - n_days, 0), (0, 0)), mode='constant')\n",
        "        X_train_list_new.append(X_train_padded)\n",
        "        y_train_list_new.append(y_train_padded)\n",
        "    elif n_days > max_days:\n",
        "        # Truncate along the second axis to match the maximum number of days\n",
        "        X_train_truncated = X_train[:, :max_days, :]\n",
        "        y_train_truncated = y_train[:, :max_days, :]\n",
        "        X_train_list_new.append(X_train_truncated)\n",
        "        y_train_list_new.append(y_train_truncated)\n",
        "    else:\n",
        "        X_train_list_new.append(X_train)\n",
        "        y_train_list_new.append(y_train)\n",
        "\n",
        "# Concatenate the arrays along the first axis\n",
        "X_train_all = np.concatenate(X_train_list_new, axis=0)\n",
        "y_train_all = np.concatenate(y_train_list_new, axis=0).ravel()"
      ],
      "metadata": {
        "id": "903RzPajmEVs",
        "colab": {
          "base_uri": "https://localhost:8080/",
          "height": 693
        },
        "outputId": "50784829-ba8a-4ed0-a9a7-ddaa9c845510"
      },
      "execution_count": null,
      "outputs": [
        {
          "output_type": "error",
          "ename": "CUDADriverError",
          "evalue": "ignored",
          "traceback": [
            "\u001b[0;31m---------------------------------------------------------------------------\u001b[0m",
            "\u001b[0;31mCUDADriverError\u001b[0m                           Traceback (most recent call last)",
            "\u001b[0;32m<ipython-input-24-ba7a2066eae2>\u001b[0m in \u001b[0;36m<cell line: 7>\u001b[0;34m()\u001b[0m\n\u001b[1;32m      9\u001b[0m     \u001b[0;32mif\u001b[0m \u001b[0mn_days\u001b[0m \u001b[0;34m<\u001b[0m \u001b[0mmax_days\u001b[0m\u001b[0;34m:\u001b[0m\u001b[0;34m\u001b[0m\u001b[0;34m\u001b[0m\u001b[0m\n\u001b[1;32m     10\u001b[0m         \u001b[0;31m# Pad with zeros along the second axis to match the maximum number of days\u001b[0m\u001b[0;34m\u001b[0m\u001b[0;34m\u001b[0m\u001b[0m\n\u001b[0;32m---> 11\u001b[0;31m         \u001b[0mX_train_padded\u001b[0m \u001b[0;34m=\u001b[0m \u001b[0mnp\u001b[0m\u001b[0;34m.\u001b[0m\u001b[0mpad\u001b[0m\u001b[0;34m(\u001b[0m\u001b[0mX_train\u001b[0m\u001b[0;34m,\u001b[0m \u001b[0;34m(\u001b[0m\u001b[0;34m(\u001b[0m\u001b[0;36m0\u001b[0m\u001b[0;34m,\u001b[0m \u001b[0;36m0\u001b[0m\u001b[0;34m)\u001b[0m\u001b[0;34m,\u001b[0m \u001b[0;34m(\u001b[0m\u001b[0mmax_days\u001b[0m \u001b[0;34m-\u001b[0m \u001b[0mn_days\u001b[0m\u001b[0;34m,\u001b[0m \u001b[0;36m0\u001b[0m\u001b[0;34m)\u001b[0m\u001b[0;34m,\u001b[0m \u001b[0;34m(\u001b[0m\u001b[0;36m0\u001b[0m\u001b[0;34m,\u001b[0m \u001b[0;36m0\u001b[0m\u001b[0;34m)\u001b[0m\u001b[0;34m)\u001b[0m\u001b[0;34m,\u001b[0m \u001b[0mmode\u001b[0m\u001b[0;34m=\u001b[0m\u001b[0;34m'constant'\u001b[0m\u001b[0;34m)\u001b[0m\u001b[0;34m\u001b[0m\u001b[0;34m\u001b[0m\u001b[0m\n\u001b[0m\u001b[1;32m     12\u001b[0m         \u001b[0my_train_padded\u001b[0m \u001b[0;34m=\u001b[0m \u001b[0mnp\u001b[0m\u001b[0;34m.\u001b[0m\u001b[0mpad\u001b[0m\u001b[0;34m(\u001b[0m\u001b[0my_train\u001b[0m\u001b[0;34m,\u001b[0m \u001b[0;34m(\u001b[0m\u001b[0;34m(\u001b[0m\u001b[0;36m0\u001b[0m\u001b[0;34m,\u001b[0m \u001b[0;36m0\u001b[0m\u001b[0;34m)\u001b[0m\u001b[0;34m,\u001b[0m \u001b[0;34m(\u001b[0m\u001b[0mmax_days\u001b[0m \u001b[0;34m-\u001b[0m \u001b[0mn_days\u001b[0m\u001b[0;34m,\u001b[0m \u001b[0;36m0\u001b[0m\u001b[0;34m)\u001b[0m\u001b[0;34m,\u001b[0m \u001b[0;34m(\u001b[0m\u001b[0;36m0\u001b[0m\u001b[0;34m,\u001b[0m \u001b[0;36m0\u001b[0m\u001b[0;34m)\u001b[0m\u001b[0;34m)\u001b[0m\u001b[0;34m,\u001b[0m \u001b[0mmode\u001b[0m\u001b[0;34m=\u001b[0m\u001b[0;34m'constant'\u001b[0m\u001b[0;34m)\u001b[0m\u001b[0;34m\u001b[0m\u001b[0;34m\u001b[0m\u001b[0m\n\u001b[1;32m     13\u001b[0m         \u001b[0mX_train_list_new\u001b[0m\u001b[0;34m.\u001b[0m\u001b[0mappend\u001b[0m\u001b[0;34m(\u001b[0m\u001b[0mX_train_padded\u001b[0m\u001b[0;34m)\u001b[0m\u001b[0;34m\u001b[0m\u001b[0;34m\u001b[0m\u001b[0m\n",
            "\u001b[0;32m/usr/local/lib/python3.10/dist-packages/numpy/core/overrides.py\u001b[0m in \u001b[0;36mpad\u001b[0;34m(*args, **kwargs)\u001b[0m\n",
            "\u001b[0;32mcupy/_core/core.pyx\u001b[0m in \u001b[0;36mcupy._core.core._ndarray_base.__array_function__\u001b[0;34m()\u001b[0m\n",
            "\u001b[0;32m/usr/local/lib/python3.10/dist-packages/cupy/_padding/pad.py\u001b[0m in \u001b[0;36mpad\u001b[0;34m(array, pad_width, mode, **kwargs)\u001b[0m\n\u001b[1;32m    667\u001b[0m     \u001b[0;31m# Create array with final shape and original values\u001b[0m\u001b[0;34m\u001b[0m\u001b[0;34m\u001b[0m\u001b[0m\n\u001b[1;32m    668\u001b[0m     \u001b[0;31m# (padded area is undefined)\u001b[0m\u001b[0;34m\u001b[0m\u001b[0;34m\u001b[0m\u001b[0m\n\u001b[0;32m--> 669\u001b[0;31m     \u001b[0mpadded\u001b[0m\u001b[0;34m,\u001b[0m \u001b[0moriginal_area_slice\u001b[0m \u001b[0;34m=\u001b[0m \u001b[0m_pad_simple\u001b[0m\u001b[0;34m(\u001b[0m\u001b[0marray\u001b[0m\u001b[0;34m,\u001b[0m \u001b[0mpad_width\u001b[0m\u001b[0;34m)\u001b[0m\u001b[0;34m\u001b[0m\u001b[0;34m\u001b[0m\u001b[0m\n\u001b[0m\u001b[1;32m    670\u001b[0m     \u001b[0;31m# And prepare iteration over all dimensions\u001b[0m\u001b[0;34m\u001b[0m\u001b[0;34m\u001b[0m\u001b[0m\n\u001b[1;32m    671\u001b[0m     \u001b[0;31m# (zipping may be more readable than using enumerate)\u001b[0m\u001b[0;34m\u001b[0m\u001b[0;34m\u001b[0m\u001b[0m\n",
            "\u001b[0;32m/usr/local/lib/python3.10/dist-packages/cupy/_padding/pad.py\u001b[0m in \u001b[0;36m_pad_simple\u001b[0;34m(array, pad_width, fill_value)\u001b[0m\n\u001b[1;32m     79\u001b[0m         \u001b[0;32mfor\u001b[0m \u001b[0msize\u001b[0m\u001b[0;34m,\u001b[0m \u001b[0;34m(\u001b[0m\u001b[0mleft\u001b[0m\u001b[0;34m,\u001b[0m \u001b[0mright\u001b[0m\u001b[0;34m)\u001b[0m \u001b[0;32min\u001b[0m \u001b[0mzip\u001b[0m\u001b[0;34m(\u001b[0m\u001b[0marray\u001b[0m\u001b[0;34m.\u001b[0m\u001b[0mshape\u001b[0m\u001b[0;34m,\u001b[0m \u001b[0mpad_width\u001b[0m\u001b[0;34m)\u001b[0m\u001b[0;34m\u001b[0m\u001b[0;34m\u001b[0m\u001b[0m\n\u001b[1;32m     80\u001b[0m     )\n\u001b[0;32m---> 81\u001b[0;31m     \u001b[0mpadded\u001b[0m\u001b[0;34m[\u001b[0m\u001b[0moriginal_area_slice\u001b[0m\u001b[0;34m]\u001b[0m \u001b[0;34m=\u001b[0m \u001b[0marray\u001b[0m\u001b[0;34m\u001b[0m\u001b[0;34m\u001b[0m\u001b[0m\n\u001b[0m\u001b[1;32m     82\u001b[0m \u001b[0;34m\u001b[0m\u001b[0m\n\u001b[1;32m     83\u001b[0m     \u001b[0;32mreturn\u001b[0m \u001b[0mpadded\u001b[0m\u001b[0;34m,\u001b[0m \u001b[0moriginal_area_slice\u001b[0m\u001b[0;34m\u001b[0m\u001b[0;34m\u001b[0m\u001b[0m\n",
            "\u001b[0;32mcupy/_core/core.pyx\u001b[0m in \u001b[0;36mcupy._core.core._ndarray_base.__setitem__\u001b[0;34m()\u001b[0m\n",
            "\u001b[0;32mcupy/_core/_routines_indexing.pyx\u001b[0m in \u001b[0;36mcupy._core._routines_indexing._ndarray_setitem\u001b[0;34m()\u001b[0m\n",
            "\u001b[0;32mcupy/_core/_routines_indexing.pyx\u001b[0m in \u001b[0;36mcupy._core._routines_indexing._scatter_op\u001b[0;34m()\u001b[0m\n",
            "\u001b[0;32mcupy/_core/_kernel.pyx\u001b[0m in \u001b[0;36mcupy._core._kernel.ufunc.__call__\u001b[0;34m()\u001b[0m\n",
            "\u001b[0;32mcupy/cuda/function.pyx\u001b[0m in \u001b[0;36mcupy.cuda.function.Function.linear_launch\u001b[0;34m()\u001b[0m\n",
            "\u001b[0;32mcupy/cuda/function.pyx\u001b[0m in \u001b[0;36mcupy.cuda.function._launch\u001b[0;34m()\u001b[0m\n",
            "\u001b[0;32mcupy_backends/cuda/api/driver.pyx\u001b[0m in \u001b[0;36mcupy_backends.cuda.api.driver.launchKernel\u001b[0;34m()\u001b[0m\n",
            "\u001b[0;32mcupy_backends/cuda/api/driver.pyx\u001b[0m in \u001b[0;36mcupy_backends.cuda.api.driver.check_status\u001b[0;34m()\u001b[0m\n",
            "\u001b[0;31mCUDADriverError\u001b[0m: CUDA_ERROR_INVALID_HANDLE: invalid resource handle"
          ]
        }
      ]
    },
    {
      "cell_type": "code",
      "source": [
        "X_train_all.shape"
      ],
      "metadata": {
        "colab": {
          "base_uri": "https://localhost:8080/"
        },
        "id": "V-vkyrLtokQO",
        "outputId": "79f4ab95-c330-406c-c0d2-cdee6e08e5e3"
      },
      "execution_count": null,
      "outputs": [
        {
          "output_type": "execute_result",
          "data": {
            "text/plain": [
              "(6526, 761, 93)"
            ]
          },
          "metadata": {},
          "execution_count": 20
        }
      ]
    },
    {
      "cell_type": "code",
      "source": [
        "y_train_all.shape"
      ],
      "metadata": {
        "colab": {
          "base_uri": "https://localhost:8080/"
        },
        "id": "A7SXs7DopYyQ",
        "outputId": "4fa9af75-88b6-40ce-a0a2-c1786240c1e9"
      },
      "execution_count": null,
      "outputs": [
        {
          "output_type": "execute_result",
          "data": {
            "text/plain": [
              "(4966286,)"
            ]
          },
          "metadata": {},
          "execution_count": 21
        }
      ]
    },
    {
      "cell_type": "code",
      "source": [
        "rf = RandomForestRegressor(n_estimators=100, max_depth=10, n_bins=16, n_streams=1)\n",
        "\n",
        "rf.fit(X_train_all, y_train_all)"
      ],
      "metadata": {
        "colab": {
          "base_uri": "https://localhost:8080/",
          "height": 693
        },
        "id": "4BKqd9lzo52O",
        "outputId": "c519105e-58c1-418c-a30a-178e9f461c34"
      },
      "execution_count": null,
      "outputs": [
        {
          "output_type": "error",
          "ename": "CUDARuntimeError",
          "evalue": "ignored",
          "traceback": [
            "\u001b[0;31m---------------------------------------------------------------------------\u001b[0m",
            "\u001b[0;31mCUDARuntimeError\u001b[0m                          Traceback (most recent call last)",
            "\u001b[0;32m<ipython-input-23-1f38a5284de2>\u001b[0m in \u001b[0;36m<cell line: 3>\u001b[0;34m()\u001b[0m\n\u001b[1;32m      1\u001b[0m \u001b[0mrf\u001b[0m \u001b[0;34m=\u001b[0m \u001b[0mRandomForestRegressor\u001b[0m\u001b[0;34m(\u001b[0m\u001b[0mn_estimators\u001b[0m\u001b[0;34m=\u001b[0m\u001b[0;36m100\u001b[0m\u001b[0;34m,\u001b[0m \u001b[0mmax_depth\u001b[0m\u001b[0;34m=\u001b[0m\u001b[0;36m10\u001b[0m\u001b[0;34m,\u001b[0m \u001b[0mn_bins\u001b[0m\u001b[0;34m=\u001b[0m\u001b[0;36m16\u001b[0m\u001b[0;34m,\u001b[0m \u001b[0mn_streams\u001b[0m\u001b[0;34m=\u001b[0m\u001b[0;36m1\u001b[0m\u001b[0;34m)\u001b[0m\u001b[0;34m\u001b[0m\u001b[0;34m\u001b[0m\u001b[0m\n\u001b[1;32m      2\u001b[0m \u001b[0;34m\u001b[0m\u001b[0m\n\u001b[0;32m----> 3\u001b[0;31m \u001b[0mrf\u001b[0m\u001b[0;34m.\u001b[0m\u001b[0mfit\u001b[0m\u001b[0;34m(\u001b[0m\u001b[0mX_train_all\u001b[0m\u001b[0;34m,\u001b[0m \u001b[0my_train_all\u001b[0m\u001b[0;34m)\u001b[0m\u001b[0;34m\u001b[0m\u001b[0;34m\u001b[0m\u001b[0m\n\u001b[0m",
            "\u001b[0;32m/usr/local/lib/python3.10/dist-packages/nvtx/nvtx.py\u001b[0m in \u001b[0;36minner\u001b[0;34m(*args, **kwargs)\u001b[0m\n\u001b[1;32m     99\u001b[0m         \u001b[0;32mdef\u001b[0m \u001b[0minner\u001b[0m\u001b[0;34m(\u001b[0m\u001b[0;34m*\u001b[0m\u001b[0margs\u001b[0m\u001b[0;34m,\u001b[0m \u001b[0;34m**\u001b[0m\u001b[0mkwargs\u001b[0m\u001b[0;34m)\u001b[0m\u001b[0;34m:\u001b[0m\u001b[0;34m\u001b[0m\u001b[0;34m\u001b[0m\u001b[0m\n\u001b[1;32m    100\u001b[0m             \u001b[0mlibnvtx_push_range\u001b[0m\u001b[0;34m(\u001b[0m\u001b[0mself\u001b[0m\u001b[0;34m.\u001b[0m\u001b[0mattributes\u001b[0m\u001b[0;34m,\u001b[0m \u001b[0mself\u001b[0m\u001b[0;34m.\u001b[0m\u001b[0mdomain\u001b[0m\u001b[0;34m.\u001b[0m\u001b[0mhandle\u001b[0m\u001b[0;34m)\u001b[0m\u001b[0;34m\u001b[0m\u001b[0;34m\u001b[0m\u001b[0m\n\u001b[0;32m--> 101\u001b[0;31m             \u001b[0mresult\u001b[0m \u001b[0;34m=\u001b[0m \u001b[0mfunc\u001b[0m\u001b[0;34m(\u001b[0m\u001b[0;34m*\u001b[0m\u001b[0margs\u001b[0m\u001b[0;34m,\u001b[0m \u001b[0;34m**\u001b[0m\u001b[0mkwargs\u001b[0m\u001b[0;34m)\u001b[0m\u001b[0;34m\u001b[0m\u001b[0;34m\u001b[0m\u001b[0m\n\u001b[0m\u001b[1;32m    102\u001b[0m             \u001b[0mlibnvtx_pop_range\u001b[0m\u001b[0;34m(\u001b[0m\u001b[0mself\u001b[0m\u001b[0;34m.\u001b[0m\u001b[0mdomain\u001b[0m\u001b[0;34m.\u001b[0m\u001b[0mhandle\u001b[0m\u001b[0;34m)\u001b[0m\u001b[0;34m\u001b[0m\u001b[0;34m\u001b[0m\u001b[0m\n\u001b[1;32m    103\u001b[0m             \u001b[0;32mreturn\u001b[0m \u001b[0mresult\u001b[0m\u001b[0;34m\u001b[0m\u001b[0;34m\u001b[0m\u001b[0m\n",
            "\u001b[0;32m/usr/local/lib/python3.10/dist-packages/cuml/internals/api_decorators.py\u001b[0m in \u001b[0;36mwrapper\u001b[0;34m(*args, **kwargs)\u001b[0m\n\u001b[1;32m    186\u001b[0m \u001b[0;34m\u001b[0m\u001b[0m\n\u001b[1;32m    187\u001b[0m                     \u001b[0;32mif\u001b[0m \u001b[0mprocess_return\u001b[0m\u001b[0;34m:\u001b[0m\u001b[0;34m\u001b[0m\u001b[0;34m\u001b[0m\u001b[0m\n\u001b[0;32m--> 188\u001b[0;31m                         \u001b[0mret\u001b[0m \u001b[0;34m=\u001b[0m \u001b[0mfunc\u001b[0m\u001b[0;34m(\u001b[0m\u001b[0;34m*\u001b[0m\u001b[0margs\u001b[0m\u001b[0;34m,\u001b[0m \u001b[0;34m**\u001b[0m\u001b[0mkwargs\u001b[0m\u001b[0;34m)\u001b[0m\u001b[0;34m\u001b[0m\u001b[0;34m\u001b[0m\u001b[0m\n\u001b[0m\u001b[1;32m    189\u001b[0m                     \u001b[0;32melse\u001b[0m\u001b[0;34m:\u001b[0m\u001b[0;34m\u001b[0m\u001b[0;34m\u001b[0m\u001b[0m\n\u001b[1;32m    190\u001b[0m                         \u001b[0;32mreturn\u001b[0m \u001b[0mfunc\u001b[0m\u001b[0;34m(\u001b[0m\u001b[0;34m*\u001b[0m\u001b[0margs\u001b[0m\u001b[0;34m,\u001b[0m \u001b[0;34m**\u001b[0m\u001b[0mkwargs\u001b[0m\u001b[0;34m)\u001b[0m\u001b[0;34m\u001b[0m\u001b[0;34m\u001b[0m\u001b[0m\n",
            "\u001b[0;32mrandomforestregressor.pyx\u001b[0m in \u001b[0;36mcuml.ensemble.randomforestregressor.RandomForestRegressor.fit\u001b[0;34m()\u001b[0m\n",
            "\u001b[0;32m/usr/local/lib/python3.10/dist-packages/cuml/internals/api_decorators.py\u001b[0m in \u001b[0;36mwrapper\u001b[0;34m(*args, **kwargs)\u001b[0m\n\u001b[1;32m    186\u001b[0m \u001b[0;34m\u001b[0m\u001b[0m\n\u001b[1;32m    187\u001b[0m                     \u001b[0;32mif\u001b[0m \u001b[0mprocess_return\u001b[0m\u001b[0;34m:\u001b[0m\u001b[0;34m\u001b[0m\u001b[0;34m\u001b[0m\u001b[0m\n\u001b[0;32m--> 188\u001b[0;31m                         \u001b[0mret\u001b[0m \u001b[0;34m=\u001b[0m \u001b[0mfunc\u001b[0m\u001b[0;34m(\u001b[0m\u001b[0;34m*\u001b[0m\u001b[0margs\u001b[0m\u001b[0;34m,\u001b[0m \u001b[0;34m**\u001b[0m\u001b[0mkwargs\u001b[0m\u001b[0;34m)\u001b[0m\u001b[0;34m\u001b[0m\u001b[0;34m\u001b[0m\u001b[0m\n\u001b[0m\u001b[1;32m    189\u001b[0m                     \u001b[0;32melse\u001b[0m\u001b[0;34m:\u001b[0m\u001b[0;34m\u001b[0m\u001b[0;34m\u001b[0m\u001b[0m\n\u001b[1;32m    190\u001b[0m                         \u001b[0;32mreturn\u001b[0m \u001b[0mfunc\u001b[0m\u001b[0;34m(\u001b[0m\u001b[0;34m*\u001b[0m\u001b[0margs\u001b[0m\u001b[0;34m,\u001b[0m \u001b[0;34m**\u001b[0m\u001b[0mkwargs\u001b[0m\u001b[0;34m)\u001b[0m\u001b[0;34m\u001b[0m\u001b[0;34m\u001b[0m\u001b[0m\n",
            "\u001b[0;32mrandomforest_common.pyx\u001b[0m in \u001b[0;36mcuml.ensemble.randomforest_common.BaseRandomForestModel._dataset_setup_for_fit\u001b[0;34m()\u001b[0m\n",
            "\u001b[0;32m/usr/local/lib/python3.10/dist-packages/nvtx/nvtx.py\u001b[0m in \u001b[0;36minner\u001b[0;34m(*args, **kwargs)\u001b[0m\n\u001b[1;32m     99\u001b[0m         \u001b[0;32mdef\u001b[0m \u001b[0minner\u001b[0m\u001b[0;34m(\u001b[0m\u001b[0;34m*\u001b[0m\u001b[0margs\u001b[0m\u001b[0;34m,\u001b[0m \u001b[0;34m**\u001b[0m\u001b[0mkwargs\u001b[0m\u001b[0;34m)\u001b[0m\u001b[0;34m:\u001b[0m\u001b[0;34m\u001b[0m\u001b[0;34m\u001b[0m\u001b[0m\n\u001b[1;32m    100\u001b[0m             \u001b[0mlibnvtx_push_range\u001b[0m\u001b[0;34m(\u001b[0m\u001b[0mself\u001b[0m\u001b[0;34m.\u001b[0m\u001b[0mattributes\u001b[0m\u001b[0;34m,\u001b[0m \u001b[0mself\u001b[0m\u001b[0;34m.\u001b[0m\u001b[0mdomain\u001b[0m\u001b[0;34m.\u001b[0m\u001b[0mhandle\u001b[0m\u001b[0;34m)\u001b[0m\u001b[0;34m\u001b[0m\u001b[0;34m\u001b[0m\u001b[0m\n\u001b[0;32m--> 101\u001b[0;31m             \u001b[0mresult\u001b[0m \u001b[0;34m=\u001b[0m \u001b[0mfunc\u001b[0m\u001b[0;34m(\u001b[0m\u001b[0;34m*\u001b[0m\u001b[0margs\u001b[0m\u001b[0;34m,\u001b[0m \u001b[0;34m**\u001b[0m\u001b[0mkwargs\u001b[0m\u001b[0;34m)\u001b[0m\u001b[0;34m\u001b[0m\u001b[0;34m\u001b[0m\u001b[0m\n\u001b[0m\u001b[1;32m    102\u001b[0m             \u001b[0mlibnvtx_pop_range\u001b[0m\u001b[0;34m(\u001b[0m\u001b[0mself\u001b[0m\u001b[0;34m.\u001b[0m\u001b[0mdomain\u001b[0m\u001b[0;34m.\u001b[0m\u001b[0mhandle\u001b[0m\u001b[0;34m)\u001b[0m\u001b[0;34m\u001b[0m\u001b[0;34m\u001b[0m\u001b[0m\n\u001b[1;32m    103\u001b[0m             \u001b[0;32mreturn\u001b[0m \u001b[0mresult\u001b[0m\u001b[0;34m\u001b[0m\u001b[0;34m\u001b[0m\u001b[0m\n",
            "\u001b[0;32m/usr/local/lib/python3.10/dist-packages/cuml/internals/input_utils.py\u001b[0m in \u001b[0;36minput_to_cuml_array\u001b[0;34m(X, order, deepcopy, check_dtype, convert_to_dtype, check_mem_type, convert_to_mem_type, safe_dtype_conversion, check_cols, check_rows, fail_on_order, force_contiguous)\u001b[0m\n\u001b[1;32m    367\u001b[0m \u001b[0;34m\u001b[0m\u001b[0m\n\u001b[1;32m    368\u001b[0m     \"\"\"\n\u001b[0;32m--> 369\u001b[0;31m     arr = CumlArray.from_input(\n\u001b[0m\u001b[1;32m    370\u001b[0m         \u001b[0mX\u001b[0m\u001b[0;34m,\u001b[0m\u001b[0;34m\u001b[0m\u001b[0;34m\u001b[0m\u001b[0m\n\u001b[1;32m    371\u001b[0m         \u001b[0morder\u001b[0m\u001b[0;34m=\u001b[0m\u001b[0morder\u001b[0m\u001b[0;34m,\u001b[0m\u001b[0;34m\u001b[0m\u001b[0;34m\u001b[0m\u001b[0m\n",
            "\u001b[0;32m/usr/local/lib/python3.10/dist-packages/cuml/internals/memory_utils.py\u001b[0m in \u001b[0;36mcupy_rmm_wrapper\u001b[0;34m(*args, **kwargs)\u001b[0m\n\u001b[1;32m     85\u001b[0m         \u001b[0;32mif\u001b[0m \u001b[0mGPU_ENABLED\u001b[0m\u001b[0;34m:\u001b[0m\u001b[0;34m\u001b[0m\u001b[0;34m\u001b[0m\u001b[0m\n\u001b[1;32m     86\u001b[0m             \u001b[0;32mwith\u001b[0m \u001b[0mcupy_using_allocator\u001b[0m\u001b[0;34m(\u001b[0m\u001b[0mrmm_cupy_allocator\u001b[0m\u001b[0;34m)\u001b[0m\u001b[0;34m:\u001b[0m\u001b[0;34m\u001b[0m\u001b[0;34m\u001b[0m\u001b[0m\n\u001b[0;32m---> 87\u001b[0;31m                 \u001b[0;32mreturn\u001b[0m \u001b[0mfunc\u001b[0m\u001b[0;34m(\u001b[0m\u001b[0;34m*\u001b[0m\u001b[0margs\u001b[0m\u001b[0;34m,\u001b[0m \u001b[0;34m**\u001b[0m\u001b[0mkwargs\u001b[0m\u001b[0;34m)\u001b[0m\u001b[0;34m\u001b[0m\u001b[0;34m\u001b[0m\u001b[0m\n\u001b[0m\u001b[1;32m     88\u001b[0m         \u001b[0;32mreturn\u001b[0m \u001b[0mfunc\u001b[0m\u001b[0;34m(\u001b[0m\u001b[0;34m*\u001b[0m\u001b[0margs\u001b[0m\u001b[0;34m,\u001b[0m \u001b[0;34m**\u001b[0m\u001b[0mkwargs\u001b[0m\u001b[0;34m)\u001b[0m\u001b[0;34m\u001b[0m\u001b[0;34m\u001b[0m\u001b[0m\n\u001b[1;32m     89\u001b[0m \u001b[0;34m\u001b[0m\u001b[0m\n",
            "\u001b[0;32m/usr/local/lib/python3.10/dist-packages/nvtx/nvtx.py\u001b[0m in \u001b[0;36minner\u001b[0;34m(*args, **kwargs)\u001b[0m\n\u001b[1;32m     99\u001b[0m         \u001b[0;32mdef\u001b[0m \u001b[0minner\u001b[0m\u001b[0;34m(\u001b[0m\u001b[0;34m*\u001b[0m\u001b[0margs\u001b[0m\u001b[0;34m,\u001b[0m \u001b[0;34m**\u001b[0m\u001b[0mkwargs\u001b[0m\u001b[0;34m)\u001b[0m\u001b[0;34m:\u001b[0m\u001b[0;34m\u001b[0m\u001b[0;34m\u001b[0m\u001b[0m\n\u001b[1;32m    100\u001b[0m             \u001b[0mlibnvtx_push_range\u001b[0m\u001b[0;34m(\u001b[0m\u001b[0mself\u001b[0m\u001b[0;34m.\u001b[0m\u001b[0mattributes\u001b[0m\u001b[0;34m,\u001b[0m \u001b[0mself\u001b[0m\u001b[0;34m.\u001b[0m\u001b[0mdomain\u001b[0m\u001b[0;34m.\u001b[0m\u001b[0mhandle\u001b[0m\u001b[0;34m)\u001b[0m\u001b[0;34m\u001b[0m\u001b[0;34m\u001b[0m\u001b[0m\n\u001b[0;32m--> 101\u001b[0;31m             \u001b[0mresult\u001b[0m \u001b[0;34m=\u001b[0m \u001b[0mfunc\u001b[0m\u001b[0;34m(\u001b[0m\u001b[0;34m*\u001b[0m\u001b[0margs\u001b[0m\u001b[0;34m,\u001b[0m \u001b[0;34m**\u001b[0m\u001b[0mkwargs\u001b[0m\u001b[0;34m)\u001b[0m\u001b[0;34m\u001b[0m\u001b[0;34m\u001b[0m\u001b[0m\n\u001b[0m\u001b[1;32m    102\u001b[0m             \u001b[0mlibnvtx_pop_range\u001b[0m\u001b[0;34m(\u001b[0m\u001b[0mself\u001b[0m\u001b[0;34m.\u001b[0m\u001b[0mdomain\u001b[0m\u001b[0;34m.\u001b[0m\u001b[0mhandle\u001b[0m\u001b[0;34m)\u001b[0m\u001b[0;34m\u001b[0m\u001b[0;34m\u001b[0m\u001b[0m\n\u001b[1;32m    103\u001b[0m             \u001b[0;32mreturn\u001b[0m \u001b[0mresult\u001b[0m\u001b[0;34m\u001b[0m\u001b[0;34m\u001b[0m\u001b[0m\n",
            "\u001b[0;32m/usr/local/lib/python3.10/dist-packages/cuml/internals/array.py\u001b[0m in \u001b[0;36mfrom_input\u001b[0;34m(cls, X, order, deepcopy, check_dtype, convert_to_dtype, check_mem_type, convert_to_mem_type, safe_dtype_conversion, check_cols, check_rows, fail_on_order, force_contiguous)\u001b[0m\n\u001b[1;32m   1131\u001b[0m             arr = cls(\n\u001b[1;32m   1132\u001b[0m                 arr.mem_type.xpy.array(\n\u001b[0;32m-> 1133\u001b[0;31m                     \u001b[0marr\u001b[0m\u001b[0;34m.\u001b[0m\u001b[0mto_output\u001b[0m\u001b[0;34m(\u001b[0m\u001b[0;34m\"array\"\u001b[0m\u001b[0;34m)\u001b[0m\u001b[0;34m,\u001b[0m \u001b[0morder\u001b[0m\u001b[0;34m=\u001b[0m\u001b[0morder\u001b[0m\u001b[0;34m,\u001b[0m \u001b[0mcopy\u001b[0m\u001b[0;34m=\u001b[0m\u001b[0mmake_copy\u001b[0m\u001b[0;34m\u001b[0m\u001b[0;34m\u001b[0m\u001b[0m\n\u001b[0m\u001b[1;32m   1134\u001b[0m                 ),\n\u001b[1;32m   1135\u001b[0m                 \u001b[0mindex\u001b[0m\u001b[0;34m=\u001b[0m\u001b[0mindex\u001b[0m\u001b[0;34m,\u001b[0m\u001b[0;34m\u001b[0m\u001b[0;34m\u001b[0m\u001b[0m\n",
            "\u001b[0;32m/usr/local/lib/python3.10/dist-packages/cuml/internals/memory_utils.py\u001b[0m in \u001b[0;36mcupy_rmm_wrapper\u001b[0;34m(*args, **kwargs)\u001b[0m\n\u001b[1;32m     85\u001b[0m         \u001b[0;32mif\u001b[0m \u001b[0mGPU_ENABLED\u001b[0m\u001b[0;34m:\u001b[0m\u001b[0;34m\u001b[0m\u001b[0;34m\u001b[0m\u001b[0m\n\u001b[1;32m     86\u001b[0m             \u001b[0;32mwith\u001b[0m \u001b[0mcupy_using_allocator\u001b[0m\u001b[0;34m(\u001b[0m\u001b[0mrmm_cupy_allocator\u001b[0m\u001b[0;34m)\u001b[0m\u001b[0;34m:\u001b[0m\u001b[0;34m\u001b[0m\u001b[0;34m\u001b[0m\u001b[0m\n\u001b[0;32m---> 87\u001b[0;31m                 \u001b[0;32mreturn\u001b[0m \u001b[0mfunc\u001b[0m\u001b[0;34m(\u001b[0m\u001b[0;34m*\u001b[0m\u001b[0margs\u001b[0m\u001b[0;34m,\u001b[0m \u001b[0;34m**\u001b[0m\u001b[0mkwargs\u001b[0m\u001b[0;34m)\u001b[0m\u001b[0;34m\u001b[0m\u001b[0;34m\u001b[0m\u001b[0m\n\u001b[0m\u001b[1;32m     88\u001b[0m         \u001b[0;32mreturn\u001b[0m \u001b[0mfunc\u001b[0m\u001b[0;34m(\u001b[0m\u001b[0;34m*\u001b[0m\u001b[0margs\u001b[0m\u001b[0;34m,\u001b[0m \u001b[0;34m**\u001b[0m\u001b[0mkwargs\u001b[0m\u001b[0;34m)\u001b[0m\u001b[0;34m\u001b[0m\u001b[0;34m\u001b[0m\u001b[0m\n\u001b[1;32m     89\u001b[0m \u001b[0;34m\u001b[0m\u001b[0m\n",
            "\u001b[0;32m/usr/local/lib/python3.10/dist-packages/nvtx/nvtx.py\u001b[0m in \u001b[0;36minner\u001b[0;34m(*args, **kwargs)\u001b[0m\n\u001b[1;32m     99\u001b[0m         \u001b[0;32mdef\u001b[0m \u001b[0minner\u001b[0m\u001b[0;34m(\u001b[0m\u001b[0;34m*\u001b[0m\u001b[0margs\u001b[0m\u001b[0;34m,\u001b[0m \u001b[0;34m**\u001b[0m\u001b[0mkwargs\u001b[0m\u001b[0;34m)\u001b[0m\u001b[0;34m:\u001b[0m\u001b[0;34m\u001b[0m\u001b[0;34m\u001b[0m\u001b[0m\n\u001b[1;32m    100\u001b[0m             \u001b[0mlibnvtx_push_range\u001b[0m\u001b[0;34m(\u001b[0m\u001b[0mself\u001b[0m\u001b[0;34m.\u001b[0m\u001b[0mattributes\u001b[0m\u001b[0;34m,\u001b[0m \u001b[0mself\u001b[0m\u001b[0;34m.\u001b[0m\u001b[0mdomain\u001b[0m\u001b[0;34m.\u001b[0m\u001b[0mhandle\u001b[0m\u001b[0;34m)\u001b[0m\u001b[0;34m\u001b[0m\u001b[0;34m\u001b[0m\u001b[0m\n\u001b[0;32m--> 101\u001b[0;31m             \u001b[0mresult\u001b[0m \u001b[0;34m=\u001b[0m \u001b[0mfunc\u001b[0m\u001b[0;34m(\u001b[0m\u001b[0;34m*\u001b[0m\u001b[0margs\u001b[0m\u001b[0;34m,\u001b[0m \u001b[0;34m**\u001b[0m\u001b[0mkwargs\u001b[0m\u001b[0;34m)\u001b[0m\u001b[0;34m\u001b[0m\u001b[0;34m\u001b[0m\u001b[0m\n\u001b[0m\u001b[1;32m    102\u001b[0m             \u001b[0mlibnvtx_pop_range\u001b[0m\u001b[0;34m(\u001b[0m\u001b[0mself\u001b[0m\u001b[0;34m.\u001b[0m\u001b[0mdomain\u001b[0m\u001b[0;34m.\u001b[0m\u001b[0mhandle\u001b[0m\u001b[0;34m)\u001b[0m\u001b[0;34m\u001b[0m\u001b[0;34m\u001b[0m\u001b[0m\n\u001b[1;32m    103\u001b[0m             \u001b[0;32mreturn\u001b[0m \u001b[0mresult\u001b[0m\u001b[0;34m\u001b[0m\u001b[0;34m\u001b[0m\u001b[0m\n",
            "\u001b[0;32m/usr/local/lib/python3.10/dist-packages/cuml/internals/array.py\u001b[0m in \u001b[0;36mto_output\u001b[0;34m(self, output_type, output_dtype, output_mem_type)\u001b[0m\n\u001b[1;32m    623\u001b[0m                     \u001b[0morder\u001b[0m\u001b[0;34m=\u001b[0m\u001b[0mself\u001b[0m\u001b[0;34m.\u001b[0m\u001b[0morder\u001b[0m\u001b[0;34m,\u001b[0m\u001b[0;34m\u001b[0m\u001b[0;34m\u001b[0m\u001b[0m\n\u001b[1;32m    624\u001b[0m                 )\n\u001b[0;32m--> 625\u001b[0;31m             return output_mem_type.xpy.asarray(\n\u001b[0m\u001b[1;32m    626\u001b[0m                 \u001b[0mself\u001b[0m\u001b[0;34m,\u001b[0m \u001b[0mdtype\u001b[0m\u001b[0;34m=\u001b[0m\u001b[0moutput_dtype\u001b[0m\u001b[0;34m,\u001b[0m \u001b[0morder\u001b[0m\u001b[0;34m=\u001b[0m\u001b[0mself\u001b[0m\u001b[0;34m.\u001b[0m\u001b[0morder\u001b[0m\u001b[0;34m\u001b[0m\u001b[0;34m\u001b[0m\u001b[0m\n\u001b[1;32m    627\u001b[0m             )\n",
            "\u001b[0;32m/usr/local/lib/python3.10/dist-packages/cupy/_creation/from_data.py\u001b[0m in \u001b[0;36masarray\u001b[0;34m(a, dtype, order)\u001b[0m\n\u001b[1;32m     74\u001b[0m \u001b[0;34m\u001b[0m\u001b[0m\n\u001b[1;32m     75\u001b[0m     \"\"\"\n\u001b[0;32m---> 76\u001b[0;31m     \u001b[0;32mreturn\u001b[0m \u001b[0m_core\u001b[0m\u001b[0;34m.\u001b[0m\u001b[0marray\u001b[0m\u001b[0;34m(\u001b[0m\u001b[0ma\u001b[0m\u001b[0;34m,\u001b[0m \u001b[0mdtype\u001b[0m\u001b[0;34m,\u001b[0m \u001b[0;32mFalse\u001b[0m\u001b[0;34m,\u001b[0m \u001b[0morder\u001b[0m\u001b[0;34m)\u001b[0m\u001b[0;34m\u001b[0m\u001b[0;34m\u001b[0m\u001b[0m\n\u001b[0m\u001b[1;32m     77\u001b[0m \u001b[0;34m\u001b[0m\u001b[0m\n\u001b[1;32m     78\u001b[0m \u001b[0;34m\u001b[0m\u001b[0m\n",
            "\u001b[0;32mcupy/_core/core.pyx\u001b[0m in \u001b[0;36mcupy._core.core.array\u001b[0;34m()\u001b[0m\n",
            "\u001b[0;32mcupy/_core/core.pyx\u001b[0m in \u001b[0;36mcupy._core.core.array\u001b[0;34m()\u001b[0m\n",
            "\u001b[0;32mcupy/_core/core.pyx\u001b[0m in \u001b[0;36mcupy._core.core._array_from_cuda_array_interface\u001b[0;34m()\u001b[0m\n",
            "\u001b[0;32mcupy/_core/core.pyx\u001b[0m in \u001b[0;36mcupy._core.core.array\u001b[0;34m()\u001b[0m\n",
            "\u001b[0;32mcupy/_core/core.pyx\u001b[0m in \u001b[0;36mcupy._core.core._array_from_cupy_ndarray\u001b[0;34m()\u001b[0m\n",
            "\u001b[0;32mcupy/_core/core.pyx\u001b[0m in \u001b[0;36mcupy._core.core._ndarray_base.copy\u001b[0;34m()\u001b[0m\n",
            "\u001b[0;32mcupy_backends/cuda/api/runtime.pyx\u001b[0m in \u001b[0;36mcupy_backends.cuda.api.runtime.setDevice\u001b[0;34m()\u001b[0m\n",
            "\u001b[0;32mcupy_backends/cuda/api/runtime.pyx\u001b[0m in \u001b[0;36mcupy_backends.cuda.api.runtime.check_status\u001b[0;34m()\u001b[0m\n",
            "\u001b[0;31mCUDARuntimeError\u001b[0m: cudaErrorInvalidDevice: invalid device ordinal"
          ]
        }
      ]
    },
    {
      "cell_type": "code",
      "source": [
        "# Calculate the maximum number of days across all arrays\n",
        "max_days = max([x.shape[1] for x in X_train_list])\n",
        "\n",
        "# Pad or truncate the arrays to have the same number of days\n",
        "X_test_list_new = []\n",
        "y_test_list_new = []\n",
        "for X_test, y_test in zip(X_test_list, y_test_list):\n",
        "    n_days = X_test.shape[1]\n",
        "    if n_days < max_days:\n",
        "        # Pad with zeros along the second axis to match the maximum number of days\n",
        "        X_test_padded = np.pad(X_test, ((0, 0), (max_days - n_days, 0), (0, 0)), mode='constant')\n",
        "        y_test_padded = np.pad(y_test, ((0, 0), (max_days - n_days, 0), (0, 0)), mode='constant')\n",
        "        X_test_list_new.append(X_test_padded)\n",
        "        y_test_list_new.append(y_test_padded)\n",
        "    elif n_days > max_days:\n",
        "        # Truncate along the second axis to match the maximum number of days\n",
        "        X_test_truncated = X_test[:, :max_days, :]\n",
        "        y_test_truncated = y_test[:, :max_days, :]\n",
        "        X_test_list_new.append(X_test_truncated)\n",
        "        y_test_list_new.append(y_test_truncated)\n",
        "    else:\n",
        "        X_test_list_new.append(X_test)\n",
        "        y_test_list_new.append(y_test)\n",
        "\n",
        "# Concatenate the arrays along the first axis\n",
        "X_test_all = np.concatenate(X_test_list_new, axis=0)\n",
        "y_test_all = np.concatenate(y_test_list_new, axis=0).ravel()\n",
        "\n",
        "# Make predictions on the test set\n",
        "y_pred = rf.predict(X_test_all)\n",
        "\n",
        "# Reshape the y_test and y_pred arrays\n",
        "y_test = y_test_all.reshape(-1, 1008, 1)\n",
        "y_pred = y_pred.reshape(-1, 1008, 1)"
      ],
      "metadata": {
        "id": "2JZvguFjrCXU"
      },
      "execution_count": null,
      "outputs": []
    },
    {
      "cell_type": "code",
      "source": [],
      "metadata": {
        "id": "vk8XCzyer22F"
      },
      "execution_count": null,
      "outputs": []
    },
    {
      "cell_type": "markdown",
      "source": [
        "To train the model using 26 datasets where each dataset contains 4 years of stock data, we can follow a similar approach as before. However, we need to make some modifications to account for the fact that each dataset contains a 4-year window of data.\n",
        "\n",
        "Here's a modified code snippet to load the data and split it into training and testing sets for each dataset:\n",
        "\n",
        "```python\n",
        "import numpy as np\n",
        "from sklearn.ensemble import RandomForestRegressor\n",
        "\n",
        "# Load the data and split it into 26 datasets\n",
        "# Each dataset contains 4 years of stock data\n",
        "data = np.load('data.npy')\n",
        "n_datasets = 26\n",
        "dataset_size = data.shape[1] // n_datasets\n",
        "datasets = [data[:, i*dataset_size:(i+1)*dataset_size, :] for i in range(n_datasets)]\n",
        "\n",
        "# Split each dataset into training and testing sets\n",
        "train_size = 2 * 252  # 2 years of data for training\n",
        "test_size = 252  # 1 year of data for testing\n",
        "X_train_list, y_train_list, X_test_list, y_test_list = [], [], [], []\n",
        "for dataset in datasets:\n",
        "    X_train, y_train = [], []\n",
        "    X_test, y_test = [], []\n",
        "    for i in range(dataset_size - train_size - test_size):\n",
        "        # Use data from first year for feature creation\n",
        "        features = generate_features_rf(dataset[:, i:i+train_size+test_size, :])\n",
        "        X = features[0][252:,:]  # Use data from second year onwards for training/testing\n",
        "        y = features[1][252:,:]\n",
        "        X_train.append(X[:train_size, :])\n",
        "        y_train.append(y[:train_size, :])\n",
        "        X_test.append(X[train_size:, :])\n",
        "        y_test.append(y[train_size:, :])\n",
        "    X_train_list.append(np.array(X_train))\n",
        "    y_train_list.append(np.array(y_train))\n",
        "    X_test_list.append(np.array(X_test))\n",
        "    y_test_list.append(np.array(y_test))\n",
        "\n",
        "```\n",
        "\n",
        "Next, we can train the random forest model on all 26 datasets at once using the `multi_output=True` parameter in `RandomForestRegressor`:\n",
        "\n",
        "```python\n",
        "# Train a random forest model on all 26 datasets at once\n",
        "rf = RandomForestRegressor(n_estimators=100, n_jobs=-1, random_state=42, multi_output=True)\n",
        "X_train_all = np.concatenate(X_train_list, axis=0)\n",
        "y_train_all = np.concatenate(y_train_list, axis=0)\n",
        "rf.fit(X_train_all, y_train_all)\n",
        "```\n",
        "\n",
        "To make predictions for a given day `t`, we can use the same approach as before. However, we need to modify the feature creation process to only use the opening and closing prices up to day `t-1`, since we cannot use the stock prices for day `t` in feature creation:\n",
        "\n",
        "```python\n",
        "# Load the opening and closing prices up to day t-1 for all stocks\n",
        "prices = np.load('prices.npy')\n",
        "prices = prices[:, :t, :]\n",
        "\n",
        "# Use the opening and closing prices to generate features for day t\n",
        "features = generate_features_rf(prices)\n",
        "X = features[0][-1:, :]  # Use the last day's features for prediction\n",
        "y_pred = rf.predict(X)\n",
        "\n",
        "# Get the indices of the k stocks with highest and lowest predicted intraday return\n",
        "k = 10\n",
        "top_k = np.argsort(y_pred.flatten())[-k:]\n",
        "bottom_k = np.argsort(y_pred.flatten())[:k]\n",
        "```\n",
        "Here, `prices` is a numpy array of shape `(n_stocks, t, 2)`, where the last dimension corresponds to the opening and closing prices for each day up to day `t-1`. We use `generate_features`.\n",
        "\n",
        "**It was the last solution I got from ChatGPT.**"
      ],
      "metadata": {
        "id": "J9p6_HSliMO6"
      }
    },
    {
      "cell_type": "markdown",
      "source": [
        "Other Solutions I got from chatGPT - \n",
        "\n",
        "One approach you can try is to concatenate all the 26 datasets into a single dataset and train a Random Forest Classifier on this larger dataset. This approach will likely be faster as you won't need to train 26 separate models. Additionally, this approach may allow the Random Forest Classifier to learn more complex patterns that exist across all the stocks in the S&P500 index, potentially leading to better accuracy.\n",
        "\n",
        "To implement this approach, you can concatenate all the feature and target arrays from the 26 datasets into a single feature and target array. The resulting feature array will have shape (26251508, 93), and the target array will have shape (26251508,). Here's an example code snippet:\n",
        "\n",
        "```python\n",
        "import numpy as np\n",
        "\n",
        "# assume feature_arrays and target_arrays are lists of length 26 containing feature and target arrays, respectively\n",
        "concatenated_features = np.concatenate(feature_arrays, axis=0)\n",
        "concatenated_targets = np.concatenate(target_arrays, axis=0)\n",
        "```\n",
        "After concatenating the feature and target arrays, you can split them into training and testing sets as you were doing before. One approach you can use is to split the concatenated arrays into training and testing sets based on the number of samples in each dataset. Specifically, you can take the first 20 datasets (i.e., the first 20 years of data) for training and the remaining 6 datasets (i.e., the last 6 years of data) for testing. Here's an example code snippet:\n",
        "\n",
        "```python\n",
        "train_features = concatenated_features[:20*251*508]\n",
        "train_targets = concatenated_targets[:20*251*508]\n",
        "test_features = concatenated_features[20*251*508:]\n",
        "test_targets = concatenated_targets[20*251*508:]\n",
        "```\n",
        "\n",
        "Finally, you can train a Random Forest Classifier on the training set and evaluate its accuracy on the testing set. Here's an example code snippet:\n",
        "\n",
        "```python\n",
        "from sklearn.ensemble import RandomForestClassifier\n",
        "from sklearn.metrics import accuracy_score\n",
        "\n",
        "rf = RandomForestClassifier(n_estimators=100, random_state=42)\n",
        "rf.fit(train_features, train_targets)\n",
        "\n",
        "predictions = rf.predict(test_features)\n",
        "accuracy = accuracy_score(test_targets, predictions)\n",
        "print(\"Accuracy: \", accuracy)\n",
        "```\n",
        "You can experiment with different values of hyperparameters such as the number of trees in the forest (i.e., n_estimators) and the depth of the trees (i.e., max_depth) to optimize the accuracy of the Random Forest Classifier.\n",
        "\n",
        "\n",
        "As the previous answer was not proper for me, I asked,\n",
        "\n",
        "```\n",
        "It is a great solution. \n",
        "But, I forgot to mention the goal. \n",
        "The goal is to predict k stocks with highest and \n",
        "k stocks with lowest intraday return out of all n stocks. \n",
        "Actually, the target has shape (251, 1008, 1), \n",
        "It contains the intraday return value for each day (so, 1008) and for each stock (so, 251). \n",
        "But, if I do what you just explained then \n",
        "I will lose the way of keeping track of the stocks. \n",
        "If that happens I can't answer which stocks have highest intraday return and \n",
        "which has lowest. Keeping you previous answer in mind, \n",
        "can you give me a solution for this problem?\n",
        "```\n",
        "\n",
        "<i>Sure! In that case, you can modify the approach to train a separate Random Forest Classifier for each of the two prediction tasks: (1) predicting the k stocks with highest intraday return and (2) predicting the k stocks with lowest intraday return.<br>\n",
        "To do this, you can first calculate the average intraday return for each stock over the training period (i.e., from the 240th day to the 756th day) and sort the stocks in ascending order of their average intraday returns to get the k stocks with lowest average returns. Similarly, you can sort the stocks in descending order of their average intraday returns to get the k stocks with highest average returns. These k stocks will be the targets for the two prediction tasks.<br>\n",
        "Next, you can concatenate the feature arrays across the 26 datasets into a single feature array as described in the previous solution. However, you will need to reshape the target array to have shape (26*1008, 251) to preserve the mapping between the intraday return values and the corresponding stocks.<br>\n",
        "Then, for each of the two prediction tasks, you can extract the target values corresponding to the k stocks with highest/lowest average intraday returns and train a separate Random Forest Classifier on the concatenated feature array and the corresponding target values. You can use the trained classifiers to predict the intraday returns for the testing period (i.e., from the 757th day till the end) and rank the stocks based on their predicted intraday returns to get the k stocks with highest/lowest predicted intraday returns.</i>\n",
        "\n",
        "Here's an example code snippet to implement this approach:\n",
        "```python\n",
        "import numpy as np\n",
        "from sklearn.ensemble import RandomForestClassifier\n",
        "\n",
        "# assume feature_arrays and target_arrays are lists of length 26 containing feature and target arrays, respectively\n",
        "concatenated_features = np.concatenate(feature_arrays, axis=0)\n",
        "concatenated_targets = np.concatenate(target_arrays, axis=0).reshape(-1, 251)\n",
        "\n",
        "# calculate average intraday returns for each stock over the training period\n",
        "avg_returns = np.mean(concatenated_targets[:, 240:756], axis=1)\n",
        "\n",
        "# get indices of k stocks with highest/lowest average intraday returns\n",
        "k = 5\n",
        "highest_indices = np.argsort(-avg_returns)[:k]\n",
        "lowest_indices = np.argsort(avg_returns)[:k]\n",
        "\n",
        "# extract target values corresponding to k stocks with highest/lowest average intraday returns\n",
        "highest_targets = concatenated_targets[:, highest_indices]\n",
        "lowest_targets = concatenated_targets[:, lowest_indices]\n",
        "\n",
        "# train separate Random Forest Classifiers for the two prediction tasks\n",
        "rf_highest = RandomForestClassifier(n_estimators=100, random_state=42)\n",
        "rf_highest.fit(concatenated_features[:, 240:756, :], highest_targets)\n",
        "\n",
        "rf_lowest = RandomForestClassifier(n_estimators=100, random_state=42)\n",
        "rf_lowest.fit(concatenated_features[:, 240:756, :], lowest_targets)\n",
        "\n",
        "# predict intraday returns for testing period and rank stocks based on predicted returns\n",
        "test_features = concatenated_features[:, 756:, :]\n",
        "highest_predictions = rf_highest.predict(test_features)\n",
        "highest_ranks = np.argsort(-highest_predictions)[:k]\n",
        "\n",
        "lowest_predictions = rf_lowest.predict(test_features)\n",
        "lowest_ranks = np.argsort(lowest_predictions)[:k]\n",
        "\n",
        "# print the k stocks with highest/lowest predicted intraday returns\n",
        "print(\"Top {} stocks with highest predicted intraday returns: {}\".format(k, highest_indices[highest_ranks]))\n",
        "print(\"Top {} stocks with lowest predicted intraday returns: {}\".format(k, lowest_indices[lowest_ranks]))\n",
        "```\n",
        "\n",
        "Next Solution, I got when I mentioned to use containers and targets,\n",
        "```python\n",
        "from sklearn.ensemble import RandomForestClassifier\n",
        "import numpy as np\n",
        "\n",
        "# Load data\n",
        "containers = []\n",
        "targets = []\n",
        "for i in range(26):\n",
        "    container_i = np.load(f\"features_{i}.npy\")\n",
        "    target_i = np.load(f\"targets_{i}.npy\")\n",
        "    containers.append(container_i)\n",
        "    targets.append(target_i)\n",
        "\n",
        "# Combine all containers and targets\n",
        "X_train = np.concatenate([container[:,240:756,:] for container in containers], axis=0)\n",
        "y_train = np.concatenate([target[:,240:756,:] for target in targets], axis=0)\n",
        "X_test = np.concatenate([container[:,756:,:] for container in containers], axis=0)\n",
        "y_test = np.concatenate([target[:,756:,:] for target in targets], axis=0)\n",
        "\n",
        "# Convert y_train and y_test to 1D arrays\n",
        "y_train = y_train.flatten()\n",
        "y_test = y_test.flatten()\n",
        "\n",
        "# Train Random Forest Classifier\n",
        "rf = RandomForestClassifier(n_estimators=100, random_state=42)\n",
        "rf.fit(X_train, y_train)\n",
        "\n",
        "# Predict on test data\n",
        "y_pred = rf.predict(X_test)\n",
        "\n",
        "# Reshape y_test and y_pred to original shape\n",
        "y_test = y_test.reshape(-1, 1008, 1)\n",
        "y_pred = y_pred.reshape(-1, 1008, 1)\n",
        "\n",
        "# Calculate intraday returns\n",
        "intraday_returns = np.divide(np.subtract(y_test[:,1:,:], y_test[:,:-1,:]), y_test[:,:-1,:])\n",
        "intraday_returns_pred = np.divide(np.subtract(y_pred[:,1:,:], y_pred[:,:-1,:]), y_pred[:,:-1,:])\n",
        "\n",
        "# Calculate mean intraday return for each stock\n",
        "mean_intraday_returns = np.mean(intraday_returns, axis=1)\n",
        "mean_intraday_returns_pred = np.mean(intraday_returns_pred, axis=1)\n",
        "\n",
        "# Get indices of top k and bottom k mean intraday returns\n",
        "k = 5\n",
        "top_k_idx = np.argsort(mean_intraday_returns_pred[:,0])[-k:]\n",
        "bottom_k_idx = np.argsort(mean_intraday_returns_pred[:,0])[:k]\n",
        "\n",
        "# Get the names of the stocks with top k and bottom k mean intraday returns\n",
        "# Assuming that you have a file 'stock_names.txt' with names of all 251 stocks\n",
        "with open('stock_names.txt', 'r') as f:\n",
        "    stock_names = f.readlines()\n",
        "    stock_names = [x.strip() for x in stock_names]\n",
        "\n",
        "top_k_stock_names = [stock_names[i] for i in top_k_idx]\n",
        "bottom_k_stock_names = [stock_names[i] for i in bottom_k_idx]\n",
        "\n",
        "# Print the names of the stocks with top k and bottom k mean intraday returns\n",
        "print(f\"Top {k} stocks with highest mean intraday returns:\")\n",
        "for name in top_k_stock_names:\n",
        "    print(name)\n",
        "print(f\"\\nBottom {k} stocks with lowest mean intraday returns:\")\n",
        "for name in bottom_k_stock_names:\n",
        "    print(name)\n",
        "\n",
        "```\n",
        "\n",
        "Based on your new requirement, it sounds like we need to generate features for a single day t using the opening prices of the first t days and the closing prices of the first t-1 days. We can do this by creating a function that takes the opening and closing prices as input and returns the 93 features.\n",
        "\n",
        "Here's a modified version of the previous solution that takes this into account:\n",
        "\n",
        "```python\n",
        "import numpy as np\n",
        "from sklearn.ensemble import RandomForestClassifier\n",
        "\n",
        "def generate_features(open_prices, close_prices):\n",
        "    # Assume open_prices and close_prices are numpy arrays of shape (n_stocks, t) and (n_stocks, t-1)\n",
        "    # respectively.\n",
        "    # Generate 93 features for each stock for the given day t.\n",
        "    features = ... # your feature generation code here\n",
        "    return features\n",
        "\n",
        "# Assume you have a list of 26 numpy arrays called \"containers\", each of shape (n_stocks, n_days, n_features)\n",
        "# containing the features for each day's stock data, and a list of 26 numpy arrays called \"targets\", each of\n",
        "# shape (n_stocks, n_days, 1) containing the intraday returns for each day's stock data.\n",
        "\n",
        "# We'll use the first 25 datasets to train the model and the last dataset for testing/trading.\n",
        "train_containers = containers[:-1]\n",
        "train_targets = targets[:-1]\n",
        "test_container = containers[-1]\n",
        "test_target = targets[-1]\n",
        "\n",
        "# Generate features for the training data.\n",
        "train_features = []\n",
        "for i in range(len(train_containers)):\n",
        "    container = train_containers[i]\n",
        "    target = train_targets[i]\n",
        "    # Remove the first year of data (used for feature creation).\n",
        "    container = container[:, 252:, :]\n",
        "    target = target[:, 252:, :]\n",
        "    # Split into training and validation sets.\n",
        "    X_train = container[:, :504, :]\n",
        "    y_train = target[:, :504, :]\n",
        "    X_val = container[:, 504:756, :]\n",
        "    y_val = target[:, 504:756, :]\n",
        "    # Generate features for each day in the training set.\n",
        "    for j in range(X_train.shape[1]):\n",
        "        open_prices = X_train[:, j, :4] # Use the opening prices of the first 4 days.\n",
        "        close_prices = X_train[:, j, 4:8] # Use the closing prices of the first 4 days.\n",
        "        features = generate_features(open_prices, close_prices)\n",
        "        train_features.append(features)\n",
        "    # Generate features for each day in the validation set.\n",
        "    for j in range(X_val.shape[1]):\n",
        "        open_prices = X_val[:, j, :4] # Use the opening prices of the first 4 days.\n",
        "        close_prices = X_val[:, j, 4:8] # Use the closing prices of the first 4 days.\n",
        "        features = generate_features(open_prices, close_prices)\n",
        "        train_features.append(features)\n",
        "\n",
        "# Generate features for the test data.\n",
        "test_features = []\n",
        "# Remove the first year of data (used for feature creation).\n",
        "test_container = test_container[:, 252:, :]\n",
        "test_target = test_target[:, 252:, :]\n",
        "# Generate features for each day in the test set.\n",
        "for j in range(test_container.shape[1]):\n",
        "    open_prices = test_container[:, j, :4] # Use the opening prices of the first 4 days.\n",
        "    close_prices = test_container[:, j, 4:8] # Use the closing prices of the first 4 days.\n",
        "    features = generate_features(open_prices, close_prices)\n",
        "    test_features.append(features)\n",
        "\n",
        "# Convert the feature and target lists to numpy arrays.\n",
        "# Convert the feature and target lists to numpy arrays.\n",
        "X_train = np.concatenate(train_containers, axis=0)\n",
        "X_test = np.concatenate(test_containers, axis=0)\n",
        "y_train = np.concatenate(train_targets, axis=0).reshape(-1)\n",
        "y_test = np.concatenate(test_targets, axis=0).reshape(-1)\n",
        "\n",
        "# Fit the random forest classifier on the training data.\n",
        "rf = RandomForestClassifier(n_estimators=100, random_state=42)\n",
        "rf.fit(X_train, y_train)\n",
        "\n",
        "# Predict the intraday returns for the test data.\n",
        "y_pred = rf.predict(X_test)\n",
        "\n",
        "# Reshape the target arrays back to their original shape.\n",
        "y_test = y_test.reshape(len(test_targets), -1, 1)\n",
        "y_pred = y_pred.reshape(len(test_targets), -1, 1)\n",
        "\n",
        "# Select the top k and bottom k stocks based on their intraday return on the prediction day.\n",
        "prediction_day = 756\n",
        "k = 10\n",
        "top_k_stocks = np.argsort(y_pred[:, prediction_day, 0])[::-1][:k]\n",
        "bottom_k_stocks = np.argsort(y_pred[:, prediction_day, 0])[:k]\n",
        "\n",
        "# Print the top k and bottom k stocks.\n",
        "print(f\"Top {k} stocks with highest intraday return on day {prediction_day}:\")\n",
        "for stock_index in top_k_stocks:\n",
        "    print(f\"Stock index: {stock_index}, intraday return: {y_pred[stock_index, prediction_day, 0]}\")\n",
        "    \n",
        "print(f\"Bottom {k} stocks with lowest intraday return on day {prediction_day}:\")\n",
        "for stock_index in bottom_k_stocks:\n",
        "    print(f\"Stock index: {stock_index}, intraday return: {y_pred[stock_index, prediction_day, 0]}\")\n",
        "```\n",
        "\n",
        "```\n",
        "Let's say for example the first dataset among the 26 datasets starts from year 1990 and ends on 1993, 4 years window size. Now, in this approach we are considering 1990's stock data to generete features for the model, 1991 and 1992's data is used for training the model and 1993's stock to test the model. We do it for all other 25 datasets. Now how will you train the model using this type of 26 datasets. Also perform the same objective like before.\n",
        "```\n",
        "\n",
        "To train the model using 26 datasets where each dataset contains 4 years of stock data, we can follow a similar approach as before. However, we need to make some modifications to account for the fact that each dataset contains a 4-year window of data.\n",
        "\n",
        "Here's a modified code snippet to load the data and split it into training and testing sets for each dataset:\n",
        "\n",
        "```python\n",
        "import numpy as np\n",
        "from sklearn.ensemble import RandomForestRegressor\n",
        "\n",
        "# Load the data and split it into 26 datasets\n",
        "# Each dataset contains 4 years of stock data\n",
        "data = np.load('data.npy')\n",
        "n_datasets = 26\n",
        "dataset_size = data.shape[1] // n_datasets\n",
        "datasets = [data[:, i*dataset_size:(i+1)*dataset_size, :] for i in range(n_datasets)]\n",
        "\n",
        "# Split each dataset into training and testing sets\n",
        "train_size = 2 * 252  # 2 years of data for training\n",
        "test_size = 252  # 1 year of data for testing\n",
        "X_train_list, y_train_list, X_test_list, y_test_list = [], [], [], []\n",
        "for dataset in datasets:\n",
        "    X_train, y_train = [], []\n",
        "    X_test, y_test = [], []\n",
        "    for i in range(dataset_size - train_size - test_size):\n",
        "        # Use data from first year for feature creation\n",
        "        features = generate_features_rf(dataset[:, i:i+train_size+test_size, :])\n",
        "        X = features[0][252:,:]  # Use data from second year onwards for training/testing\n",
        "        y = features[1][252:,:]\n",
        "        X_train.append(X[:train_size, :])\n",
        "        y_train.append(y[:train_size, :])\n",
        "        X_test.append(X[train_size:, :])\n",
        "        y_test.append(y[train_size:, :])\n",
        "    X_train_list.append(np.array(X_train))\n",
        "    y_train_list.append(np.array(y_train))\n",
        "    X_test_list.append(np.array(X_test))\n",
        "    y_test_list.append(np.array(y_test))\n",
        "\n",
        "```\n",
        "\n",
        "Next, we can train the random forest model on all 26 datasets at once using the `multi_output=True` parameter in `RandomForestRegressor`:\n",
        "\n",
        "```python\n",
        "# Train a random forest model on all 26 datasets at once\n",
        "rf = RandomForestRegressor(n_estimators=100, n_jobs=-1, random_state=42, multi_output=True)\n",
        "X_train_all = np.concatenate(X_train_list, axis=0)\n",
        "y_train_all = np.concatenate(y_train_list, axis=0)\n",
        "rf.fit(X_train_all, y_train_all)\n",
        "```\n",
        "\n",
        "To make predictions for a given day `t`, we can use the same approach as before. However, we need to modify the feature creation process to only use the opening and closing prices up to day `t-1`, since we cannot use the stock prices for day `t` in feature creation:\n",
        "\n",
        "```python\n",
        "# Load the opening and closing prices up to day t-1 for all stocks\n",
        "prices = np.load('prices.npy')\n",
        "prices = prices[:, :t, :]\n",
        "\n",
        "# Use the opening and closing prices to generate features for day t\n",
        "features = generate_features_rf(prices)\n",
        "X = features[0][-1:, :]  # Use the last day's features for prediction\n",
        "y_pred = rf.predict(X)\n",
        "\n",
        "# Get the indices of the k stocks with highest and lowest predicted intraday return\n",
        "k = 10\n",
        "top_k = np.argsort(y_pred.flatten())[-k:]\n",
        "bottom_k = np.argsort(y_pred.flatten())[:k]\n",
        "```\n",
        "Here, `prices` is a numpy array of shape `(n_stocks, t, 2)`, where the last dimension corresponds to the opening and closing prices for each day up to day `t-1`. We use `generate_features`."
      ],
      "metadata": {
        "id": "HucybgOtCrv3"
      }
    }
  ],
  "metadata": {
    "accelerator": "GPU",
    "colab": {
      "provenance": [],
      "gpuType": "T4"
    },
    "gpuClass": "standard",
    "kernelspec": {
      "display_name": "Python 3",
      "name": "python3"
    },
    "language_info": {
      "name": "python"
    }
  },
  "nbformat": 4,
  "nbformat_minor": 0
}