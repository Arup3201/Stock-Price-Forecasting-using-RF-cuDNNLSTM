{
  "cells": [
    {
      "cell_type": "code",
      "execution_count": null,
      "metadata": {
        "id": "QzwTHP_99jFM"
      },
      "outputs": [],
      "source": [
        "# DEMO CODE👇\n",
        "%%time\n"
      ]
    },
    {
      "cell_type": "code",
      "execution_count": null,
      "metadata": {
        "id": "mA6hcrd0Vn0s"
      },
      "outputs": [],
      "source": [
        "!nvidia-smi"
      ]
    },
    {
      "cell_type": "markdown",
      "metadata": {
        "id": "d_mXte9KV9xD"
      },
      "source": [
        "RAPIDSAI referenec: https://docs.rapids.ai/install#rapids-release-selector"
      ]
    },
    {
      "cell_type": "code",
      "source": [
        "!pip install cuml_cu11==23.04.00 --extra-index-url https://pypi.nvidia.com \n",
        "!pip install cudf_cu11==23.04.00 --extra-index-url https://pypi.nvidia.com "
      ],
      "metadata": {
        "id": "f2gRyr-djsZ8",
        "colab": {
          "base_uri": "https://localhost:8080/"
        },
        "outputId": "a9ae3152-edec-4371-9a7d-01879fb399f1"
      },
      "execution_count": 1,
      "outputs": [
        {
          "output_type": "stream",
          "name": "stdout",
          "text": [
            "Looking in indexes: https://pypi.org/simple, https://us-python.pkg.dev/colab-wheels/public/simple/, https://pypi.nvidia.com\n",
            "Collecting cuml_cu11==23.04.00\n",
            "  Downloading https://pypi.nvidia.com/cuml-cu11/cuml_cu11-23.4.0-cp310-cp310-manylinux_2_17_x86_64.manylinux2014_x86_64.whl (1110.9 MB)\n",
            "\u001b[2K     \u001b[90m━━━━━━━━━━━━━━━━━━━━━━━━━━━━━━━━━━━━━━━━\u001b[0m \u001b[32m1.1/1.1 GB\u001b[0m \u001b[31m728.7 kB/s\u001b[0m eta \u001b[36m0:00:00\u001b[0m\n",
            "\u001b[?25hCollecting cudf-cu11==23.4.* (from cuml_cu11==23.04.00)\n",
            "  Downloading https://pypi.nvidia.com/cudf-cu11/cudf_cu11-23.4.1-cp310-cp310-manylinux_2_17_x86_64.manylinux2014_x86_64.whl (496.6 MB)\n",
            "\u001b[2K     \u001b[90m━━━━━━━━━━━━━━━━━━━━━━━━━━━━━━━━━━━━━━━\u001b[0m \u001b[32m496.6/496.6 MB\u001b[0m \u001b[31m3.4 MB/s\u001b[0m eta \u001b[36m0:00:00\u001b[0m\n",
            "\u001b[?25hRequirement already satisfied: cupy-cuda11x<12.0.0a0,>=9.5.0 in /usr/local/lib/python3.10/dist-packages (from cuml_cu11==23.04.00) (11.0.0)\n",
            "Collecting dask-cuda==23.4.* (from cuml_cu11==23.04.00)\n",
            "  Downloading dask_cuda-23.4.0-py3-none-any.whl (125 kB)\n",
            "\u001b[2K     \u001b[90m━━━━━━━━━━━━━━━━━━━━━━━━━━━━━━━━━━━━━━━\u001b[0m \u001b[32m125.3/125.3 kB\u001b[0m \u001b[31m4.3 MB/s\u001b[0m eta \u001b[36m0:00:00\u001b[0m\n",
            "\u001b[?25hCollecting dask-cudf-cu11==23.4.* (from cuml_cu11==23.04.00)\n",
            "  Downloading https://pypi.nvidia.com/dask-cudf-cu11/dask_cudf_cu11-23.4.1-py3-none-any.whl (79 kB)\n",
            "\u001b[2K     \u001b[90m━━━━━━━━━━━━━━━━━━━━━━━━━━━━━━━━━━━━━━━━\u001b[0m \u001b[32m79.4/79.4 kB\u001b[0m \u001b[31m12.4 MB/s\u001b[0m eta \u001b[36m0:00:00\u001b[0m\n",
            "\u001b[?25hCollecting dask==2023.3.2 (from cuml_cu11==23.04.00)\n",
            "  Downloading dask-2023.3.2-py3-none-any.whl (1.2 MB)\n",
            "\u001b[2K     \u001b[90m━━━━━━━━━━━━━━━━━━━━━━━━━━━━━━━━━━━━━━━━\u001b[0m \u001b[32m1.2/1.2 MB\u001b[0m \u001b[31m26.2 MB/s\u001b[0m eta \u001b[36m0:00:00\u001b[0m\n",
            "\u001b[?25hCollecting distributed==2023.3.2.1 (from cuml_cu11==23.04.00)\n",
            "  Downloading distributed-2023.3.2.1-py3-none-any.whl (957 kB)\n",
            "\u001b[2K     \u001b[90m━━━━━━━━━━━━━━━━━━━━━━━━━━━━━━━━━━━━━━\u001b[0m \u001b[32m957.1/957.1 kB\u001b[0m \u001b[31m51.6 MB/s\u001b[0m eta \u001b[36m0:00:00\u001b[0m\n",
            "\u001b[?25hRequirement already satisfied: joblib>=0.11 in /usr/local/lib/python3.10/dist-packages (from cuml_cu11==23.04.00) (1.2.0)\n",
            "Requirement already satisfied: numba in /usr/local/lib/python3.10/dist-packages (from cuml_cu11==23.04.00) (0.56.4)\n",
            "Collecting raft-dask-cu11==23.4.* (from cuml_cu11==23.04.00)\n",
            "  Downloading https://pypi.nvidia.com/raft-dask-cu11/raft_dask_cu11-23.4.1-cp310-cp310-manylinux_2_17_x86_64.manylinux2014_x86_64.whl (215.1 MB)\n",
            "\u001b[2K     \u001b[90m━━━━━━━━━━━━━━━━━━━━━━━━━━━━━━━━━━━━━━━\u001b[0m \u001b[32m215.1/215.1 MB\u001b[0m \u001b[31m5.7 MB/s\u001b[0m eta \u001b[36m0:00:00\u001b[0m\n",
            "\u001b[?25hRequirement already satisfied: scipy in /usr/local/lib/python3.10/dist-packages (from cuml_cu11==23.04.00) (1.10.1)\n",
            "Requirement already satisfied: seaborn in /usr/local/lib/python3.10/dist-packages (from cuml_cu11==23.04.00) (0.12.2)\n",
            "Collecting treelite==3.2.0 (from cuml_cu11==23.04.00)\n",
            "  Downloading treelite-3.2.0-py3-none-manylinux2014_x86_64.whl (1.0 MB)\n",
            "\u001b[2K     \u001b[90m━━━━━━━━━━━━━━━━━━━━━━━━━━━━━━━━━━━━━━━━\u001b[0m \u001b[32m1.0/1.0 MB\u001b[0m \u001b[31m82.6 MB/s\u001b[0m eta \u001b[36m0:00:00\u001b[0m\n",
            "\u001b[?25hCollecting treelite-runtime==3.2.0 (from cuml_cu11==23.04.00)\n",
            "  Downloading treelite_runtime-3.2.0-py3-none-manylinux2014_x86_64.whl (198 kB)\n",
            "\u001b[2K     \u001b[90m━━━━━━━━━━━━━━━━━━━━━━━━━━━━━━━━━━━━━━\u001b[0m \u001b[32m198.2/198.2 kB\u001b[0m \u001b[31m28.6 MB/s\u001b[0m eta \u001b[36m0:00:00\u001b[0m\n",
            "\u001b[?25hRequirement already satisfied: cachetools in /usr/local/lib/python3.10/dist-packages (from cudf-cu11==23.4.*->cuml_cu11==23.04.00) (5.3.0)\n",
            "Collecting cubinlinker-cu11 (from cudf-cu11==23.4.*->cuml_cu11==23.04.00)\n",
            "  Downloading https://pypi.nvidia.com/cubinlinker-cu11/cubinlinker_cu11-0.3.0.post1-cp310-cp310-manylinux_2_17_x86_64.manylinux2014_x86_64.whl (8.8 MB)\n",
            "\u001b[2K     \u001b[90m━━━━━━━━━━━━━━━━━━━━━━━━━━━━━━━━━━━━━━━━\u001b[0m \u001b[32m8.8/8.8 MB\u001b[0m \u001b[31m116.0 MB/s\u001b[0m eta \u001b[36m0:00:00\u001b[0m\n",
            "\u001b[?25hCollecting cuda-python<12.0,>=11.7.1 (from cudf-cu11==23.4.*->cuml_cu11==23.04.00)\n",
            "  Downloading cuda_python-11.8.1-cp310-cp310-manylinux_2_17_x86_64.manylinux2014_x86_64.whl (16.5 MB)\n",
            "\u001b[2K     \u001b[90m━━━━━━━━━━━━━━━━━━━━━━━━━━━━━━━━━━━━━━━━\u001b[0m \u001b[32m16.5/16.5 MB\u001b[0m \u001b[31m92.3 MB/s\u001b[0m eta \u001b[36m0:00:00\u001b[0m\n",
            "\u001b[?25hRequirement already satisfied: fsspec>=0.6.0 in /usr/local/lib/python3.10/dist-packages (from cudf-cu11==23.4.*->cuml_cu11==23.04.00) (2023.4.0)\n",
            "Requirement already satisfied: numpy>=1.21 in /usr/local/lib/python3.10/dist-packages (from cudf-cu11==23.4.*->cuml_cu11==23.04.00) (1.22.4)\n",
            "Collecting nvtx>=0.2.1 (from cudf-cu11==23.4.*->cuml_cu11==23.04.00)\n",
            "  Downloading nvtx-0.2.5-cp310-cp310-manylinux_2_17_x86_64.manylinux2014_x86_64.whl (428 kB)\n",
            "\u001b[2K     \u001b[90m━━━━━━━━━━━━━━━━━━━━━━━━━━━━━━━━━━━━━━\u001b[0m \u001b[32m428.4/428.4 kB\u001b[0m \u001b[31m45.2 MB/s\u001b[0m eta \u001b[36m0:00:00\u001b[0m\n",
            "\u001b[?25hRequirement already satisfied: packaging in /usr/local/lib/python3.10/dist-packages (from cudf-cu11==23.4.*->cuml_cu11==23.04.00) (23.1)\n",
            "Requirement already satisfied: pandas<1.6.0dev0,>=1.3 in /usr/local/lib/python3.10/dist-packages (from cudf-cu11==23.4.*->cuml_cu11==23.04.00) (1.5.3)\n",
            "Collecting protobuf<4.22,>=4.21.6 (from cudf-cu11==23.4.*->cuml_cu11==23.04.00)\n",
            "  Downloading protobuf-4.21.12-cp37-abi3-manylinux2014_x86_64.whl (409 kB)\n",
            "\u001b[2K     \u001b[90m━━━━━━━━━━━━━━━━━━━━━━━━━━━━━━━━━━━━━━\u001b[0m \u001b[32m409.8/409.8 kB\u001b[0m \u001b[31m44.4 MB/s\u001b[0m eta \u001b[36m0:00:00\u001b[0m\n",
            "\u001b[?25hCollecting ptxcompiler-cu11 (from cudf-cu11==23.4.*->cuml_cu11==23.04.00)\n",
            "  Downloading https://pypi.nvidia.com/ptxcompiler-cu11/ptxcompiler_cu11-0.7.0.post1-cp310-cp310-manylinux_2_17_x86_64.manylinux2014_x86_64.whl (8.8 MB)\n",
            "\u001b[2K     \u001b[90m━━━━━━━━━━━━━━━━━━━━━━━━━━━━━━━━━━━━━━━━\u001b[0m \u001b[32m8.8/8.8 MB\u001b[0m \u001b[31m120.9 MB/s\u001b[0m eta \u001b[36m0:00:00\u001b[0m\n",
            "\u001b[?25hCollecting pyarrow==10.* (from cudf-cu11==23.4.*->cuml_cu11==23.04.00)\n",
            "  Downloading pyarrow-10.0.1-cp310-cp310-manylinux_2_17_x86_64.manylinux2014_x86_64.whl (35.9 MB)\n",
            "\u001b[2K     \u001b[90m━━━━━━━━━━━━━━━━━━━━━━━━━━━━━━━━━━━━━━━━\u001b[0m \u001b[32m35.9/35.9 MB\u001b[0m \u001b[31m15.1 MB/s\u001b[0m eta \u001b[36m0:00:00\u001b[0m\n",
            "\u001b[?25hCollecting rmm-cu11==23.4.* (from cudf-cu11==23.4.*->cuml_cu11==23.04.00)\n",
            "  Downloading https://pypi.nvidia.com/rmm-cu11/rmm_cu11-23.4.1-cp310-cp310-manylinux_2_17_x86_64.manylinux2014_x86_64.whl (2.3 MB)\n",
            "\u001b[2K     \u001b[90m━━━━━━━━━━━━━━━━━━━━━━━━━━━━━━━━━━━━━━━━\u001b[0m \u001b[32m2.3/2.3 MB\u001b[0m \u001b[31m101.2 MB/s\u001b[0m eta \u001b[36m0:00:00\u001b[0m\n",
            "\u001b[?25hRequirement already satisfied: typing-extensions in /usr/local/lib/python3.10/dist-packages (from cudf-cu11==23.4.*->cuml_cu11==23.04.00) (4.5.0)\n",
            "Requirement already satisfied: click>=7.0 in /usr/local/lib/python3.10/dist-packages (from dask==2023.3.2->cuml_cu11==23.04.00) (8.1.3)\n",
            "Requirement already satisfied: cloudpickle>=1.1.1 in /usr/local/lib/python3.10/dist-packages (from dask==2023.3.2->cuml_cu11==23.04.00) (2.2.1)\n",
            "Requirement already satisfied: partd>=1.2.0 in /usr/local/lib/python3.10/dist-packages (from dask==2023.3.2->cuml_cu11==23.04.00) (1.4.0)\n",
            "Requirement already satisfied: pyyaml>=5.3.1 in /usr/local/lib/python3.10/dist-packages (from dask==2023.3.2->cuml_cu11==23.04.00) (6.0)\n",
            "Requirement already satisfied: toolz>=0.8.2 in /usr/local/lib/python3.10/dist-packages (from dask==2023.3.2->cuml_cu11==23.04.00) (0.12.0)\n",
            "Collecting importlib-metadata>=4.13.0 (from dask==2023.3.2->cuml_cu11==23.04.00)\n",
            "  Downloading importlib_metadata-6.6.0-py3-none-any.whl (22 kB)\n",
            "Collecting pynvml<11.5,>=11.0.0 (from dask-cuda==23.4.*->cuml_cu11==23.04.00)\n",
            "  Downloading pynvml-11.4.1-py3-none-any.whl (46 kB)\n",
            "\u001b[2K     \u001b[90m━━━━━━━━━━━━━━━━━━━━━━━━━━━━━━━━━━━━━━━━\u001b[0m \u001b[32m47.0/47.0 kB\u001b[0m \u001b[31m5.0 MB/s\u001b[0m eta \u001b[36m0:00:00\u001b[0m\n",
            "\u001b[?25hRequirement already satisfied: zict>=0.1.3 in /usr/local/lib/python3.10/dist-packages (from dask-cuda==23.4.*->cuml_cu11==23.04.00) (3.0.0)\n",
            "Requirement already satisfied: jinja2>=2.10.3 in /usr/local/lib/python3.10/dist-packages (from distributed==2023.3.2.1->cuml_cu11==23.04.00) (3.1.2)\n",
            "Requirement already satisfied: locket>=1.0.0 in /usr/local/lib/python3.10/dist-packages (from distributed==2023.3.2.1->cuml_cu11==23.04.00) (1.0.0)\n",
            "Requirement already satisfied: msgpack>=1.0.0 in /usr/local/lib/python3.10/dist-packages (from distributed==2023.3.2.1->cuml_cu11==23.04.00) (1.0.5)\n",
            "Requirement already satisfied: psutil>=5.7.0 in /usr/local/lib/python3.10/dist-packages (from distributed==2023.3.2.1->cuml_cu11==23.04.00) (5.9.5)\n",
            "Requirement already satisfied: sortedcontainers>=2.0.5 in /usr/local/lib/python3.10/dist-packages (from distributed==2023.3.2.1->cuml_cu11==23.04.00) (2.4.0)\n",
            "Requirement already satisfied: tblib>=1.6.0 in /usr/local/lib/python3.10/dist-packages (from distributed==2023.3.2.1->cuml_cu11==23.04.00) (1.7.0)\n",
            "Requirement already satisfied: tornado>=6.0.3 in /usr/local/lib/python3.10/dist-packages (from distributed==2023.3.2.1->cuml_cu11==23.04.00) (6.3.1)\n",
            "Requirement already satisfied: urllib3>=1.24.3 in /usr/local/lib/python3.10/dist-packages (from distributed==2023.3.2.1->cuml_cu11==23.04.00) (1.26.15)\n",
            "Collecting pylibraft-cu11==23.4.* (from raft-dask-cu11==23.4.*->cuml_cu11==23.04.00)\n",
            "  Downloading https://pypi.nvidia.com/pylibraft-cu11/pylibraft_cu11-23.4.1-cp310-cp310-manylinux_2_17_x86_64.manylinux2014_x86_64.whl (618.0 MB)\n",
            "\u001b[2K     \u001b[90m━━━━━━━━━━━━━━━━━━━━━━━━━━━━━━━━━━━━━━━\u001b[0m \u001b[32m618.0/618.0 MB\u001b[0m \u001b[31m2.8 MB/s\u001b[0m eta \u001b[36m0:00:00\u001b[0m\n",
            "\u001b[?25hCollecting ucx-py-cu11==0.31.* (from raft-dask-cu11==23.4.*->cuml_cu11==23.04.00)\n",
            "  Downloading https://pypi.nvidia.com/ucx-py-cu11/ucx_py_cu11-0.31.1-cp310-cp310-manylinux_2_17_x86_64.manylinux2014_x86_64.whl (8.3 MB)\n",
            "\u001b[2K     \u001b[90m━━━━━━━━━━━━━━━━━━━━━━━━━━━━━━━━━━━━━━━━\u001b[0m \u001b[32m8.3/8.3 MB\u001b[0m \u001b[31m125.7 MB/s\u001b[0m eta \u001b[36m0:00:00\u001b[0m\n",
            "\u001b[?25hRequirement already satisfied: fastrlock>=0.5 in /usr/local/lib/python3.10/dist-packages (from cupy-cuda11x<12.0.0a0,>=9.5.0->cuml_cu11==23.04.00) (0.8.1)\n",
            "Requirement already satisfied: llvmlite<0.40,>=0.39.0dev0 in /usr/local/lib/python3.10/dist-packages (from numba->cuml_cu11==23.04.00) (0.39.1)\n",
            "Requirement already satisfied: setuptools in /usr/local/lib/python3.10/dist-packages (from numba->cuml_cu11==23.04.00) (67.7.2)\n",
            "Requirement already satisfied: matplotlib!=3.6.1,>=3.1 in /usr/local/lib/python3.10/dist-packages (from seaborn->cuml_cu11==23.04.00) (3.7.1)\n",
            "Requirement already satisfied: cython in /usr/local/lib/python3.10/dist-packages (from cuda-python<12.0,>=11.7.1->cudf-cu11==23.4.*->cuml_cu11==23.04.00) (0.29.34)\n",
            "Requirement already satisfied: zipp>=0.5 in /usr/local/lib/python3.10/dist-packages (from importlib-metadata>=4.13.0->dask==2023.3.2->cuml_cu11==23.04.00) (3.15.0)\n",
            "Requirement already satisfied: MarkupSafe>=2.0 in /usr/local/lib/python3.10/dist-packages (from jinja2>=2.10.3->distributed==2023.3.2.1->cuml_cu11==23.04.00) (2.1.2)\n",
            "Requirement already satisfied: contourpy>=1.0.1 in /usr/local/lib/python3.10/dist-packages (from matplotlib!=3.6.1,>=3.1->seaborn->cuml_cu11==23.04.00) (1.0.7)\n",
            "Requirement already satisfied: cycler>=0.10 in /usr/local/lib/python3.10/dist-packages (from matplotlib!=3.6.1,>=3.1->seaborn->cuml_cu11==23.04.00) (0.11.0)\n",
            "Requirement already satisfied: fonttools>=4.22.0 in /usr/local/lib/python3.10/dist-packages (from matplotlib!=3.6.1,>=3.1->seaborn->cuml_cu11==23.04.00) (4.39.3)\n",
            "Requirement already satisfied: kiwisolver>=1.0.1 in /usr/local/lib/python3.10/dist-packages (from matplotlib!=3.6.1,>=3.1->seaborn->cuml_cu11==23.04.00) (1.4.4)\n",
            "Requirement already satisfied: pillow>=6.2.0 in /usr/local/lib/python3.10/dist-packages (from matplotlib!=3.6.1,>=3.1->seaborn->cuml_cu11==23.04.00) (8.4.0)\n",
            "Requirement already satisfied: pyparsing>=2.3.1 in /usr/local/lib/python3.10/dist-packages (from matplotlib!=3.6.1,>=3.1->seaborn->cuml_cu11==23.04.00) (3.0.9)\n",
            "Requirement already satisfied: python-dateutil>=2.7 in /usr/local/lib/python3.10/dist-packages (from matplotlib!=3.6.1,>=3.1->seaborn->cuml_cu11==23.04.00) (2.8.2)\n",
            "Requirement already satisfied: pytz>=2020.1 in /usr/local/lib/python3.10/dist-packages (from pandas<1.6.0dev0,>=1.3->cudf-cu11==23.4.*->cuml_cu11==23.04.00) (2022.7.1)\n",
            "Requirement already satisfied: six>=1.5 in /usr/local/lib/python3.10/dist-packages (from python-dateutil>=2.7->matplotlib!=3.6.1,>=3.1->seaborn->cuml_cu11==23.04.00) (1.16.0)\n",
            "Installing collected packages: ptxcompiler-cu11, nvtx, cubinlinker-cu11, pynvml, pyarrow, protobuf, importlib-metadata, cuda-python, ucx-py-cu11, treelite-runtime, treelite, rmm-cu11, dask, pylibraft-cu11, distributed, cudf-cu11, dask-cudf-cu11, dask-cuda, raft-dask-cu11, cuml_cu11\n",
            "  Attempting uninstall: pyarrow\n",
            "    Found existing installation: pyarrow 9.0.0\n",
            "    Uninstalling pyarrow-9.0.0:\n",
            "      Successfully uninstalled pyarrow-9.0.0\n",
            "  Attempting uninstall: protobuf\n",
            "    Found existing installation: protobuf 3.20.3\n",
            "    Uninstalling protobuf-3.20.3:\n",
            "      Successfully uninstalled protobuf-3.20.3\n",
            "  Attempting uninstall: dask\n",
            "    Found existing installation: dask 2022.12.1\n",
            "    Uninstalling dask-2022.12.1:\n",
            "      Successfully uninstalled dask-2022.12.1\n",
            "  Attempting uninstall: distributed\n",
            "    Found existing installation: distributed 2022.12.1\n",
            "    Uninstalling distributed-2022.12.1:\n",
            "      Successfully uninstalled distributed-2022.12.1\n",
            "\u001b[31mERROR: pip's dependency resolver does not currently take into account all the packages that are installed. This behaviour is the source of the following dependency conflicts.\n",
            "pandas-gbq 0.17.9 requires pyarrow<10.0dev,>=3.0.0, but you have pyarrow 10.0.1 which is incompatible.\u001b[0m\u001b[31m\n",
            "\u001b[0mSuccessfully installed cubinlinker-cu11-0.3.0.post1 cuda-python-11.8.1 cudf-cu11-23.4.1 cuml_cu11-23.4.0 dask-2023.3.2 dask-cuda-23.4.0 dask-cudf-cu11-23.4.1 distributed-2023.3.2.1 importlib-metadata-6.6.0 nvtx-0.2.5 protobuf-4.21.12 ptxcompiler-cu11-0.7.0.post1 pyarrow-10.0.1 pylibraft-cu11-23.4.1 pynvml-11.4.1 raft-dask-cu11-23.4.1 rmm-cu11-23.4.1 treelite-3.2.0 treelite-runtime-3.2.0 ucx-py-cu11-0.31.1\n",
            "Looking in indexes: https://pypi.org/simple, https://us-python.pkg.dev/colab-wheels/public/simple/, https://pypi.nvidia.com\n",
            "Collecting cudf_cu11==23.04.00\n",
            "  Downloading https://pypi.nvidia.com/cudf-cu11/cudf_cu11-23.4.0-cp310-cp310-manylinux_2_17_x86_64.manylinux2014_x86_64.whl (496.6 MB)\n",
            "\u001b[2K     \u001b[90m━━━━━━━━━━━━━━━━━━━━━━━━━━━━━━━━━━━━━━━\u001b[0m \u001b[32m496.6/496.6 MB\u001b[0m \u001b[31m3.3 MB/s\u001b[0m eta \u001b[36m0:00:00\u001b[0m\n",
            "\u001b[?25hRequirement already satisfied: cachetools in /usr/local/lib/python3.10/dist-packages (from cudf_cu11==23.04.00) (5.3.0)\n",
            "Requirement already satisfied: cubinlinker-cu11 in /usr/local/lib/python3.10/dist-packages (from cudf_cu11==23.04.00) (0.3.0.post1)\n",
            "Requirement already satisfied: cuda-python<12.0,>=11.7.1 in /usr/local/lib/python3.10/dist-packages (from cudf_cu11==23.04.00) (11.8.1)\n",
            "Requirement already satisfied: cupy-cuda11x<12.0.0a0,>=9.5.0 in /usr/local/lib/python3.10/dist-packages (from cudf_cu11==23.04.00) (11.0.0)\n",
            "Requirement already satisfied: fsspec>=0.6.0 in /usr/local/lib/python3.10/dist-packages (from cudf_cu11==23.04.00) (2023.4.0)\n",
            "Requirement already satisfied: numba<0.57,>=0.56.4 in /usr/local/lib/python3.10/dist-packages (from cudf_cu11==23.04.00) (0.56.4)\n",
            "Requirement already satisfied: numpy>=1.21 in /usr/local/lib/python3.10/dist-packages (from cudf_cu11==23.04.00) (1.22.4)\n",
            "Requirement already satisfied: nvtx>=0.2.1 in /usr/local/lib/python3.10/dist-packages (from cudf_cu11==23.04.00) (0.2.5)\n",
            "Requirement already satisfied: packaging in /usr/local/lib/python3.10/dist-packages (from cudf_cu11==23.04.00) (23.1)\n",
            "Requirement already satisfied: pandas<1.6.0dev0,>=1.3 in /usr/local/lib/python3.10/dist-packages (from cudf_cu11==23.04.00) (1.5.3)\n",
            "Requirement already satisfied: protobuf<4.22,>=4.21.6 in /usr/local/lib/python3.10/dist-packages (from cudf_cu11==23.04.00) (4.21.12)\n",
            "Requirement already satisfied: ptxcompiler-cu11 in /usr/local/lib/python3.10/dist-packages (from cudf_cu11==23.04.00) (0.7.0.post1)\n",
            "Requirement already satisfied: pyarrow==10.* in /usr/local/lib/python3.10/dist-packages (from cudf_cu11==23.04.00) (10.0.1)\n",
            "Requirement already satisfied: rmm-cu11==23.4.* in /usr/local/lib/python3.10/dist-packages (from cudf_cu11==23.04.00) (23.4.1)\n",
            "Requirement already satisfied: typing-extensions in /usr/local/lib/python3.10/dist-packages (from cudf_cu11==23.04.00) (4.5.0)\n",
            "Requirement already satisfied: cython in /usr/local/lib/python3.10/dist-packages (from cuda-python<12.0,>=11.7.1->cudf_cu11==23.04.00) (0.29.34)\n",
            "Requirement already satisfied: fastrlock>=0.5 in /usr/local/lib/python3.10/dist-packages (from cupy-cuda11x<12.0.0a0,>=9.5.0->cudf_cu11==23.04.00) (0.8.1)\n",
            "Requirement already satisfied: llvmlite<0.40,>=0.39.0dev0 in /usr/local/lib/python3.10/dist-packages (from numba<0.57,>=0.56.4->cudf_cu11==23.04.00) (0.39.1)\n",
            "Requirement already satisfied: setuptools in /usr/local/lib/python3.10/dist-packages (from numba<0.57,>=0.56.4->cudf_cu11==23.04.00) (67.7.2)\n",
            "Requirement already satisfied: python-dateutil>=2.8.1 in /usr/local/lib/python3.10/dist-packages (from pandas<1.6.0dev0,>=1.3->cudf_cu11==23.04.00) (2.8.2)\n",
            "Requirement already satisfied: pytz>=2020.1 in /usr/local/lib/python3.10/dist-packages (from pandas<1.6.0dev0,>=1.3->cudf_cu11==23.04.00) (2022.7.1)\n",
            "Requirement already satisfied: six>=1.5 in /usr/local/lib/python3.10/dist-packages (from python-dateutil>=2.8.1->pandas<1.6.0dev0,>=1.3->cudf_cu11==23.04.00) (1.16.0)\n",
            "Installing collected packages: cudf_cu11\n",
            "  Attempting uninstall: cudf_cu11\n",
            "    Found existing installation: cudf-cu11 23.4.1\n",
            "    Uninstalling cudf-cu11-23.4.1:\n",
            "      Successfully uninstalled cudf-cu11-23.4.1\n",
            "Successfully installed cudf_cu11-23.4.0\n"
          ]
        }
      ]
    },
    {
      "cell_type": "code",
      "execution_count": 2,
      "metadata": {
        "id": "rg1yPnfL2EAP"
      },
      "outputs": [],
      "source": [
        "# For data processing\n",
        "import numpy as np\n",
        "import pandas as pd\n",
        "\n",
        "# For Visulization\n",
        "import matplotlib.pyplot as plt\n",
        "import seaborn as sns\n",
        "\n",
        "# For GPU Processing\n",
        "import cudf\n",
        "import cupy as cp\n",
        "import cuml\n",
        "\n",
        "# Save features as a pickle file\n",
        "import pickle\n",
        "\n",
        "\n",
        "# For Random Forest using GPU\n",
        "from cuml.ensemble import RandomForestRegressor\n",
        "from cuml.metrics.accuracy import accuracy_score"
      ]
    },
    {
      "cell_type": "code",
      "execution_count": 6,
      "metadata": {
        "id": "yXUCYnyexYSo"
      },
      "outputs": [],
      "source": [
        "with open('/content/drive/MyDrive/datasets/stock-prices-S&P-constituents/datasets-list', 'rb') as file:\n",
        "    datasets = pickle.load(file)"
      ]
    },
    {
      "cell_type": "code",
      "source": [
        "with open('/content/drive/MyDrive/datasets/stock-prices-S&P-constituents/symbols', 'rb') as file:\n",
        "  symbols = pickle.load(file)"
      ],
      "metadata": {
        "id": "wnbCGGh62yU9"
      },
      "execution_count": 7,
      "outputs": []
    },
    {
      "cell_type": "code",
      "execution_count": 10,
      "metadata": {
        "colab": {
          "base_uri": "https://localhost:8080/"
        },
        "id": "tTs7YIN5xgsl",
        "outputId": "070a9efe-4a2d-4b10-df38-0f84dda1547e"
      },
      "outputs": [
        {
          "output_type": "execute_result",
          "data": {
            "text/plain": [
              "26"
            ]
          },
          "metadata": {},
          "execution_count": 10
        }
      ],
      "source": [
        "len(datasets)"
      ]
    },
    {
      "cell_type": "code",
      "execution_count": 11,
      "metadata": {
        "id": "mNpfuL4LxtXs"
      },
      "outputs": [],
      "source": [
        "# This function will generate new features for Random Forest\n",
        "def generate_features_rf(current_data):\n",
        "    curr_dataset = cp.asarray(current_data.copy())\n",
        "\n",
        "    # Take the total amount of days in 1st study period\n",
        "    T_study = curr_dataset.shape[1]\n",
        "\n",
        "    # Create the t =[241, 243, ..., T_study]\n",
        "    t = cp.arange(240, T_study)\n",
        "\n",
        "    # Define the m for calculation of t-m, m = [1, 2, 3, ..., 20]\n",
        "    M = cp.arange(1, 21)\n",
        "\n",
        "    # m = [1, 2, 3, ..., 20] U [40, 60, 80, ..., 240]\n",
        "    M = cp.concatenate((M, cp.arange(40, 241, 20)))\n",
        "\n",
        "    # Define number of stocks as it will be used to create arrays with proper shapes\n",
        "    n_stocks = 251\n",
        "\n",
        "    # Create a container to store ir, cr and or for the current dataset and targets to store targets\n",
        "    features_container = cp.ones(shape=(n_stocks, T_study, M.shape[0]*3))\n",
        "    targets = cp.ones(shape=(n_stocks, T_study, 1))\n",
        "\n",
        "    # Put NaN values to the first 240 rows as it will be used for feature creation\n",
        "    features_container[:, :t[0], :] = cp.nan \n",
        "    targets[:, :t[0], :] = cp.nan\n",
        "\n",
        "    # To calculate ir, we need cp_(t-m) and op_(t-m)\n",
        "    cp_t_m = cp.zeros((n_stocks, t.shape[0], M.shape[0]))\n",
        "    op_t_m = cp.zeros((n_stocks, t.shape[0], M.shape[0]))\n",
        "\n",
        "    # To calculate cr, we need cp_(t-1-m) and cp_(t-1-m). Remember we are indexing from 0, not 1!\n",
        "    cp_t_1_m = cp.zeros((n_stocks, t.shape[0], M.shape[0]))\n",
        "    cp_t_1 = curr_dataset[:, t-2, 0]\n",
        "\n",
        "    # To calculate or, we need op_t and cp_t_m. Remember we are indexing from 0, not 1!\n",
        "    op_t = curr_dataset[:, t-1, 1]\n",
        "\n",
        "\n",
        "    # Calculate cp_(t-m), op_(t-m) and cp_(t-1-m) for each m and store them at proper axis=2 index i\n",
        "    # of their respective container\n",
        "    for i, m in enumerate(M):\n",
        "        cp_t_m[:, :, i] = curr_dataset[:, t-m, 0]\n",
        "        op_t_m[:, :, i] = curr_dataset[:, t-m, 1]\n",
        "        cp_t_1_m[:, :, i] = curr_dataset[:, t-1-m, 0]\n",
        "\n",
        "\n",
        "    # Calculate ir_(t-m)\n",
        "    ir_t_m = cp.divide(cp_t_m, op_t_m, out=cp.zeros_like(cp_t_m)) - 1\n",
        "\n",
        "\n",
        "    # Before calculating cr_(t-m), reshape the cp_(t-1-m) as it should have the same last part of shape as cp_(t-1), the divident\n",
        "    # means if cp_(t-1) is (251, 774) then cp_(t-1-m) should be (_, 251, 774) notice the last of shape is same\n",
        "    reshaped_cp_t_1_m = cp_t_1_m.reshape(M.shape[0], n_stocks, -1)\n",
        "\n",
        "    # Calculating cr_(t-m)\n",
        "    cr_t_m = cp.divide(cp_t_1, reshaped_cp_t_1_m).reshape(n_stocks, -1, M.shape[0]) - 1\n",
        "\n",
        "\n",
        "    # Before calculating or_(t-m), reshape the cp_(t-m) as it should have the same last part of shape as op_t, the divident\n",
        "    # means if op_t is (251, 774) then cp_(t-m) should be (_, 251, 774) notice the last of shape is same\n",
        "    reshaped_cp_t_m = cp_t_m.reshape(M.shape[0], n_stocks, -1)\n",
        "\n",
        "    # Calculating or_(t-m)\n",
        "    or_t_m = cp.divide(op_t, reshaped_cp_t_m).reshape(n_stocks, -1, M.shape[0]) - 1\n",
        "\n",
        "    # Calculate targets\n",
        "    cp_t0 = curr_dataset[:, t, 0:1] # 0:1 makes sure that it is 3D just like targets[:, t, :]\n",
        "    op_t0 = curr_dataset[:, t, 1:] # 1: makes sure that it is 3D just like targets[:, t, :]\n",
        "    targets[:, t, :] = cp.divide(cp_t0, op_t0, out=cp.zeros_like(cp_t0), _where=op_t0!=0)\n",
        "\n",
        "    # Put the ir, cr and or inside the container\n",
        "    features_container[:, t, :] = cp.dstack((ir_t_m, cr_t_m, or_t_m))\n",
        "\n",
        "    return features_container, targets"
      ]
    },
    {
      "cell_type": "code",
      "execution_count": 12,
      "metadata": {
        "id": "gGp9P1r5xzXF"
      },
      "outputs": [],
      "source": [
        "# It will contain all the newly processed datasets each with a shape (251, stock days in 4 years, 93)\n",
        "containers = []\n",
        "targets = []\n",
        "\n",
        "# Run the generate_feature_rf function for each dataset inside main_datasets\n",
        "for dataset in datasets:\n",
        "  dataset = dataset.astype(np.float64)\n",
        "  features, target = generate_features_rf(dataset)\n",
        "  containers.append(features)\n",
        "  targets.append(target)"
      ]
    },
    {
      "cell_type": "code",
      "execution_count": 13,
      "metadata": {
        "colab": {
          "base_uri": "https://localhost:8080/"
        },
        "id": "ncEUobXUx14o",
        "outputId": "85d6246a-697b-4f82-ed55-f248406a3eb5"
      },
      "outputs": [
        {
          "output_type": "execute_result",
          "data": {
            "text/plain": [
              "(26, 26)"
            ]
          },
          "metadata": {},
          "execution_count": 13
        }
      ],
      "source": [
        "len(containers), len(targets)"
      ]
    },
    {
      "cell_type": "markdown",
      "metadata": {
        "id": "bwc7OhhI09f4"
      },
      "source": [
        "251 Stocks, ~1008 Days recorded, 93 Features"
      ]
    },
    {
      "cell_type": "code",
      "source": [
        "# Create the RandomForest Model with GPU\n",
        "rf_reg = RandomForestRegressor(n_estimators=1000, max_depth=10)\n",
        "train_test_accuracy = []\n",
        "\n",
        "for curr_dataset, curr_targets in zip(containers, targets):\n",
        "  # Remove the days which were used for features creation\n",
        "  X = curr_dataset[:, 252:, :]\n",
        "  y = curr_targets[:, 252:, :]\n",
        "\n",
        "  # training data contains 2 years and testing data is of 1 year\n",
        "  train_size=252*2\n",
        "  test_size=252\n",
        "\n",
        "  n_stocks = X.shape[0]\n",
        "  n_features = X.shape[2]\n",
        "\n",
        "  # Split the dataset into training and testing data\n",
        "  X_train, X_test, y_train, y_test = \\\n",
        "  X[:, :train_size, :], X[:, train_size:, :], \\\n",
        "  y[:, :train_size, :], y[:, train_size:, :]\n",
        "  \n",
        "  # Store the no of days captured for training and testing to use it later for reshaping the results back to original\n",
        "  n_train_days = X_train.shape[1]\n",
        "  n_test_days = X_test.shape[1]\n",
        "\n",
        "  # Reshape the training and testing data for model training and testing\n",
        "  X_train = X_train.reshape(-1, n_features)\n",
        "  X_test = X_test.reshape(-1, n_features)\n",
        "  y_train = y_train.reshape(-1, 1)\n",
        "  y_test = y_test.reshape(-1, 1)\n",
        "\n",
        "  rf_reg.fit(X_train, y_train)\n",
        "  \n",
        "  train_pred = rf_reg.predict(X_train)\n",
        "  test_pred = rf_reg.predict(X_test)\n",
        "\n",
        "  train_acc = accuracy_score(y_train, train_pred)\n",
        "  test_acc = accuracy_score(y_test, test_pred)\n",
        "\n",
        "  train_test_accuracy.append([train_acc, test_acc])"
      ],
      "metadata": {
        "colab": {
          "base_uri": "https://localhost:8080/"
        },
        "id": "3U87BILwSvvq",
        "outputId": "e383fd29-2146-4d6e-96ef-c27d2847b968"
      },
      "execution_count": 14,
      "outputs": [
        {
          "metadata": {
            "tags": null
          },
          "name": "stderr",
          "output_type": "stream",
          "text": [
            "/usr/local/lib/python3.10/dist-packages/cuml/internals/api_decorators.py:188: UserWarning: To use pickling first train using float32 data to fit the estimator\n",
            "  ret = func(*args, **kwargs)\n"
          ]
        }
      ]
    },
    {
      "cell_type": "code",
      "source": [
        "train_test_accuracy"
      ],
      "metadata": {
        "colab": {
          "base_uri": "https://localhost:8080/"
        },
        "id": "9rfDcTARgDAk",
        "outputId": "133f8bdb-fb38-4dd2-dd19-5c3dd8ebd540"
      },
      "execution_count": 15,
      "outputs": [
        {
          "output_type": "execute_result",
          "data": {
            "text/plain": [
              "[[0.9772418141365051, 0.9758630990982056],\n",
              " [0.9772734642028809, 0.9757376909255981],\n",
              " [0.9770047068595886, 0.9748613238334656],\n",
              " [0.9796765446662903, 0.9783923029899597],\n",
              " [0.9794868230819702, 0.9784079194068909],\n",
              " [0.9795263409614563, 0.978439211845398],\n",
              " [0.9812654256820679, 0.978064239025116],\n",
              " [0.9800401329994202, 0.9763790965080261],\n",
              " [0.9783406257629395, 0.9749550223350525],\n",
              " [0.9800875782966614, 0.9784731864929199],\n",
              " [0.9808148145675659, 0.9772201776504517],\n",
              " [0.9807674288749695, 0.9769149422645569],\n",
              " [0.9810994267463684, 0.9775500893592834],\n",
              " [0.9816685914993286, 0.9770797491073608],\n",
              " [0.9824116230010986, 0.9785179495811462],\n",
              " [0.9823721051216125, 0.9726988673210144],\n",
              " [0.9773999452590942, 0.9712226986885071],\n",
              " [0.9759849309921265, 0.9741352200508118],\n",
              " [0.977384090423584, 0.9750090837478638],\n",
              " [0.9781034588813782, 0.9741195440292358],\n",
              " [0.9784196615219116, 0.9732908606529236],\n",
              " [0.9778030514717102, 0.9739920496940613],\n",
              " [0.978095531463623, 0.9729083776473999],\n",
              " [0.9772971868515015, 0.9715582132339478],\n",
              " [0.9767991304397583, 0.9725559949874878],\n",
              " [0.9764038920402527, 0.9675834774971008]]"
            ]
          },
          "metadata": {},
          "execution_count": 15
        }
      ]
    },
    {
      "cell_type": "code",
      "source": [
        "len(train_test_accuracy)"
      ],
      "metadata": {
        "colab": {
          "base_uri": "https://localhost:8080/"
        },
        "id": "lpnTzyRZTQlQ",
        "outputId": "86d9e9f5-7962-47b8-b34b-a912b5054a53"
      },
      "execution_count": 16,
      "outputs": [
        {
          "output_type": "execute_result",
          "data": {
            "text/plain": [
              "26"
            ]
          },
          "metadata": {},
          "execution_count": 16
        }
      ]
    },
    {
      "cell_type": "code",
      "source": [
        "train_test_accuracy[0][0]"
      ],
      "metadata": {
        "colab": {
          "base_uri": "https://localhost:8080/"
        },
        "id": "Fgtt49E2gegp",
        "outputId": "98f3507f-9d7f-4757-b176-02dd67e75730"
      },
      "execution_count": 17,
      "outputs": [
        {
          "output_type": "execute_result",
          "data": {
            "text/plain": [
              "0.9772418141365051"
            ]
          },
          "metadata": {},
          "execution_count": 17
        }
      ]
    },
    {
      "cell_type": "code",
      "source": [
        "train_acc = [acc[0] for acc in train_test_accuracy]\n",
        "test_acc = [acc[1] for acc in train_test_accuracy]\n",
        "\n",
        "train_acc, test_acc"
      ],
      "metadata": {
        "colab": {
          "base_uri": "https://localhost:8080/"
        },
        "id": "IJdkvHakhLkh",
        "outputId": "ac9cee77-855b-4d70-9069-63aa3758095b"
      },
      "execution_count": 18,
      "outputs": [
        {
          "output_type": "execute_result",
          "data": {
            "text/plain": [
              "([0.9772418141365051,\n",
              "  0.9772734642028809,\n",
              "  0.9770047068595886,\n",
              "  0.9796765446662903,\n",
              "  0.9794868230819702,\n",
              "  0.9795263409614563,\n",
              "  0.9812654256820679,\n",
              "  0.9800401329994202,\n",
              "  0.9783406257629395,\n",
              "  0.9800875782966614,\n",
              "  0.9808148145675659,\n",
              "  0.9807674288749695,\n",
              "  0.9810994267463684,\n",
              "  0.9816685914993286,\n",
              "  0.9824116230010986,\n",
              "  0.9823721051216125,\n",
              "  0.9773999452590942,\n",
              "  0.9759849309921265,\n",
              "  0.977384090423584,\n",
              "  0.9781034588813782,\n",
              "  0.9784196615219116,\n",
              "  0.9778030514717102,\n",
              "  0.978095531463623,\n",
              "  0.9772971868515015,\n",
              "  0.9767991304397583,\n",
              "  0.9764038920402527],\n",
              " [0.9758630990982056,\n",
              "  0.9757376909255981,\n",
              "  0.9748613238334656,\n",
              "  0.9783923029899597,\n",
              "  0.9784079194068909,\n",
              "  0.978439211845398,\n",
              "  0.978064239025116,\n",
              "  0.9763790965080261,\n",
              "  0.9749550223350525,\n",
              "  0.9784731864929199,\n",
              "  0.9772201776504517,\n",
              "  0.9769149422645569,\n",
              "  0.9775500893592834,\n",
              "  0.9770797491073608,\n",
              "  0.9785179495811462,\n",
              "  0.9726988673210144,\n",
              "  0.9712226986885071,\n",
              "  0.9741352200508118,\n",
              "  0.9750090837478638,\n",
              "  0.9741195440292358,\n",
              "  0.9732908606529236,\n",
              "  0.9739920496940613,\n",
              "  0.9729083776473999,\n",
              "  0.9715582132339478,\n",
              "  0.9725559949874878,\n",
              "  0.9675834774971008])"
            ]
          },
          "metadata": {},
          "execution_count": 18
        }
      ]
    },
    {
      "cell_type": "code",
      "source": [
        "plt.plot(range(len(train_acc)), train_acc, 'r-', label=\"training acc\")\n",
        "plt.plot(range(len(test_acc)), test_acc, 'b-', label=\"testing acc\")\n",
        "\n",
        "plt.legend()"
      ],
      "metadata": {
        "colab": {
          "base_uri": "https://localhost:8080/",
          "height": 447
        },
        "id": "yXcAdd0cUjah",
        "outputId": "a67b0ee9-b101-4a86-c37c-b0cf8478a036"
      },
      "execution_count": 19,
      "outputs": [
        {
          "output_type": "execute_result",
          "data": {
            "text/plain": [
              "<matplotlib.legend.Legend at 0x7fb8ffdc91e0>"
            ]
          },
          "metadata": {},
          "execution_count": 19
        },
        {
          "output_type": "display_data",
          "data": {
            "text/plain": [
              "<Figure size 640x480 with 1 Axes>"
            ],
            "image/png": "[encoded data removed]"
          },
          "metadata": {}
        }
      ]
    },
    {
      "cell_type": "code",
      "source": [
        "with open('rf_stocks.pkl', 'wb') as file:\n",
        "  pickle.dump(rf_reg, file)"
      ],
      "metadata": {
        "id": "5AY0ZXugiMwW"
      },
      "execution_count": 21,
      "outputs": []
    },
    {
      "cell_type": "code",
      "source": [
        "from google.colab import files\n",
        "files.download('rf_stocks.pkl')"
      ],
      "metadata": {
        "colab": {
          "base_uri": "https://localhost:8080/",
          "height": 17
        },
        "id": "vt-_J1UKNkoK",
        "outputId": "4dac70ac-d53d-444a-c95e-03adbbd0e840"
      },
      "execution_count": 22,
      "outputs": [
        {
          "output_type": "display_data",
          "data": {
            "text/plain": [
              "<IPython.core.display.Javascript object>"
            ],
            "application/javascript": [
              "\n",
              "    async function download(id, filename, size) {\n",
              "      if (!google.colab.kernel.accessAllowed) {\n",
              "        return;\n",
              "      }\n",
              "      const div = document.createElement('div');\n",
              "      const label = document.createElement('label');\n",
              "      label.textContent = `Downloading \"${filename}\": `;\n",
              "      div.appendChild(label);\n",
              "      const progress = document.createElement('progress');\n",
              "      progress.max = size;\n",
              "      div.appendChild(progress);\n",
              "      document.body.appendChild(div);\n",
              "\n",
              "      const buffers = [];\n",
              "      let downloaded = 0;\n",
              "\n",
              "      const channel = await google.colab.kernel.comms.open(id);\n",
              "      // Send a message to notify the kernel that we're ready.\n",
              "      channel.send({})\n",
              "\n",
              "      for await (const message of channel.messages) {\n",
              "        // Send a message to notify the kernel that we're ready.\n",
              "        channel.send({})\n",
              "        if (message.buffers) {\n",
              "          for (const buffer of message.buffers) {\n",
              "            buffers.push(buffer);\n",
              "            downloaded += buffer.byteLength;\n",
              "            progress.value = downloaded;\n",
              "          }\n",
              "        }\n",
              "      }\n",
              "      const blob = new Blob(buffers, {type: 'application/binary'});\n",
              "      const a = document.createElement('a');\n",
              "      a.href = window.URL.createObjectURL(blob);\n",
              "      a.download = filename;\n",
              "      div.appendChild(a);\n",
              "      a.click();\n",
              "      div.remove();\n",
              "    }\n",
              "  "
            ]
          },
          "metadata": {}
        },
        {
          "output_type": "display_data",
          "data": {
            "text/plain": [
              "<IPython.core.display.Javascript object>"
            ],
            "application/javascript": [
              "download(\"download_038341f1-2979-4337-b1fc-578d07a0bf82\", \"rf_stocks.pkl\", 145390420)"
            ]
          },
          "metadata": {}
        }
      ]
    },
    {
      "cell_type": "markdown",
      "source": [
        "## Load the model"
      ],
      "metadata": {
        "id": "5aiyjVKXIwli"
      }
    },
    {
      "cell_type": "code",
      "source": [
        "def display_topbtm_stocks(prediction, label=\"Prediction\",\n",
        "                      k = 5,\n",
        "                      n_features=93, n_stocks=251, \n",
        "                      train_size=252*2, test_size=252):\n",
        "\n",
        "  # Reverse back the shapes to map the stock indexes to symbol list\n",
        "  prediction = prediction.reshape(n_stocks, 1, 1)\n",
        "\n",
        "  # Find the top and bottom k stocks using argsort which will return the indexes\n",
        "  top_k_stocks = cp.argsort(prediction, axis=0)[:k,0,-1]\n",
        "  bottom_k_stocks = cp.argsort(prediction, axis=0)[-k:,0,-1]\n",
        "\n",
        "  # Print the Predicted/Actual top k and bottom k stocks\n",
        "  print(label, \":\")\n",
        "  # Iterate over all k stock indixces and as they are type cupy.array(), convert it to scalar using .item()\n",
        "  print(\"Top k: \", ' '.join([f\"{symbols[i.item()]}\" for i in top_k_stocks[:]]))\n",
        "  print(\"Bottom k: \", ' '.join([f\"{symbols[i.item()]}\" for i in bottom_k_stocks[:]]))"
      ],
      "metadata": {
        "id": "vk8XCzyer22F"
      },
      "execution_count": 23,
      "outputs": []
    },
    {
      "cell_type": "code",
      "source": [
        "def dummy_func(model, dataset_idx=0, day=23):\n",
        "  curr_dataset = containers[dataset_idx]\n",
        "  curr_targets = targets[dataset_idx]\n",
        "\n",
        "  X_test = curr_dataset[:, day, :]\n",
        "  y_test = curr_targets[:, day, -1]\n",
        "\n",
        "  # Reshape the training and testing data for model training and testing\n",
        "  X_test = X_test.reshape(-1, n_features)\n",
        "  y_test = y_test.reshape(-1, 1)\n",
        "\n",
        "  prediction = model.predict(X_test)\n",
        "\n",
        "  display_topbtm_stocks(prediction)\n",
        "  display_topbtm_stocks(y_test, \"Actual\")"
      ],
      "metadata": {
        "id": "-AMoVs1vIhfI"
      },
      "execution_count": 28,
      "outputs": []
    },
    {
      "cell_type": "code",
      "source": [
        "dummy_func(rf_reg, 1)"
      ],
      "metadata": {
        "colab": {
          "base_uri": "https://localhost:8080/"
        },
        "id": "gBcz5QO_VEhF",
        "outputId": "a3351d58-7b60-4c81-d5f7-5e73e7e1adfc"
      },
      "execution_count": 29,
      "outputs": [
        {
          "output_type": "stream",
          "name": "stdout",
          "text": [
            "Prediction :\n",
            "Top k:  AAPL ABT ADBE ADI ADM\n",
            "Bottom k:  WY XEL XOM XRAY ZION\n",
            "Actual :\n",
            "Top k:  AAPL ABT ADBE ADI ADM\n",
            "Bottom k:  WY XEL XOM XRAY ZION\n"
          ]
        }
      ]
    }
  ],
  "metadata": {
    "accelerator": "GPU",
    "colab": {
      "provenance": [],
      "gpuType": "T4"
    },
    "gpuClass": "standard",
    "kernelspec": {
      "display_name": "Python 3",
      "name": "python3"
    },
    "language_info": {
      "name": "python"
    }
  },
  "nbformat": 4,
  "nbformat_minor": 0
}